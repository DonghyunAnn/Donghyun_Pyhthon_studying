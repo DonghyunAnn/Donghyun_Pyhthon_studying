{
  "nbformat": 4,
  "nbformat_minor": 0,
  "metadata": {
    "colab": {
      "name": "멋사처럼수업_19일차_지도학습_Linear_Classifier.ipynb",
      "provenance": [],
      "collapsed_sections": []
    },
    "kernelspec": {
      "name": "python3",
      "display_name": "Python 3"
    }
  },
  "cells": [
    {
      "cell_type": "markdown",
      "metadata": {
        "id": "JpPDNLyjxy2-"
      },
      "source": [
        "# Linear Classifier (선형분류)"
      ]
    },
    {
      "cell_type": "markdown",
      "metadata": {
        "id": "UyQchOwzx2eo"
      },
      "source": [
        "- 계산한 값이 0보다 작은 클래스는 -1, 0보다 크면 +1이라고 예측(분류)\n",
        "> ŷ = w[0] * x[0] + w[1] * x[1] + … + w[p] * x[p] + b > 0 <br>\n",
        "> Linear Regression와 매우 비슷하지만 가중치(w) 합을 사용하는 대신 예측한 값을 임계치 0 과 비교\n",
        "\n",
        "- 이진 선형 분류기는 선, 평면, 초평면을 이용하여 2개의 클래스를 구분하는 분류기\n"
      ]
    },
    {
      "cell_type": "markdown",
      "metadata": {
        "id": "DDseWGpl6e03"
      },
      "source": [
        "경사하강법(Gradient Descent) 최적화 알고리즘을 사용하여 선형 모델을 작성\n",
        "\n",
        "[SGDClassifier()](https://scikit-learn.org/stable/modules/generated/sklearn.linear_model.SGDClassifier.html)\n",
        "\n",
        "```\n",
        "SGDClassifier(alpha, average, class_weight, epsilon, eta0, fit_intercept, l1_ratio, learning_rat, loss, max_iter, n_iter, n_jobs, penalty, power_t, random_state, shuffle, tol, verbose, warm_start)\n",
        "```\n",
        "확률적 경사하강법(SGD, Stochastic Gradient Descent)을 이용하여 선형모델을 구현\n",
        "\n",
        "- lossstr : 손실함수 (default='hinge')\n",
        "- penalty : {'l2', 'l1', 'elasticnet'}, default='l2'\n",
        "- alpha : 값이 클수록 강력한 정규화(규제) 설정 (default=0.0001)\n",
        "- l1_ratio : L1 규제의 비율(Elastic-Net 믹싱 파라미터 경우에만 사용) (default=0.15)\n",
        "- fit_intercept : 모형에 상수항 (절편)이 있는가 없는가를 결정하는 인수 (default=True)\n",
        "- max_iter : 계산에 사용할 작업 수 (default=1000)\n",
        "- tol : 정밀도\n",
        "- shuffle : 에포크 후에 트레이닝 데이터를 섞는 유무 (default=True)\n",
        "- epsilon : 손실 함수에서의 엡실론, 엡실론이 작은 경우, 현재 예측과 올바른 레이블 간의 차이가 임계 값보다 작으면 무시 (default=0.1)\n",
        "- n_jobs : 병렬 처리 할 때 사용되는 CPU 코어 수\n",
        "- random_state : 난수 seed 설정\n",
        "- learning_rate : 학습속도 (default='optimal')\n",
        "- eta0 : 초기 학습속도 (default=0.0)\n",
        "- power_t : 역 스케일링 학습률 (default=0.5)\n",
        "- early_stopping : 유효성 검사 점수가 향상되지 않을 때 조기 중지여부 (default=False)\n",
        "- validation_fraction : 조기 중지를위한 검증 세트로 설정할 교육 데이터의 비율 (default=0.1)\n",
        "- n_iter_no_change : 조기중지 전 반복횟수 (default=5)\n",
        "- class_weight : 클래스와 관련된 가중치 {class_label: weight} or “balanced”, default=None\n",
        "- warm_start : 초기화 유무 (default=False)\n",
        "- average : True로 설정하면 모든 업데이트에 대한 평균 SGD 가중치를 계산하고 결과를 coef_속성에 저장 (default=False)\n"
      ]
    },
    {
      "cell_type": "markdown",
      "metadata": {
        "id": "7AuxaPtIEKD-"
      },
      "source": [
        "#### LinearClassifier 실습 01\n",
        "\n",
        "붓꽃 데이터 셋에 선형분류 적용"
      ]
    },
    {
      "cell_type": "code",
      "metadata": {
        "id": "X4AvkNOtroC2",
        "colab": {
          "base_uri": "https://localhost:8080/"
        },
        "outputId": "f2c5c823-7921-4f9e-cf69-df8bcc66f8ae"
      },
      "source": [
        "from sklearn.datasets import load_iris\n",
        "iris = load_iris()\n",
        "print(type(iris)) "
      ],
      "execution_count": 1,
      "outputs": [
        {
          "output_type": "stream",
          "text": [
            "<class 'sklearn.utils.Bunch'>\n"
          ],
          "name": "stdout"
        }
      ]
    },
    {
      "cell_type": "code",
      "metadata": {
        "id": "erRoa4ynob0Z"
      },
      "source": [
        "iris.feature_names"
      ],
      "execution_count": null,
      "outputs": []
    },
    {
      "cell_type": "code",
      "metadata": {
        "colab": {
          "base_uri": "https://localhost:8080/"
        },
        "id": "9lubiJOV6NIV",
        "outputId": "516cc19c-3513-412b-9491-6e58ac25293d"
      },
      "source": [
        "iris.target_names"
      ],
      "execution_count": 2,
      "outputs": [
        {
          "output_type": "execute_result",
          "data": {
            "text/plain": [
              "array(['setosa', 'versicolor', 'virginica'], dtype='<U10')"
            ]
          },
          "metadata": {
            "tags": []
          },
          "execution_count": 2
        }
      ]
    },
    {
      "cell_type": "code",
      "metadata": {
        "id": "XW0Nxxmw6iK3"
      },
      "source": [
        "X,y = iris.data,iris.target"
      ],
      "execution_count": 10,
      "outputs": []
    },
    {
      "cell_type": "code",
      "metadata": {
        "id": "qvWcxqXEroDD",
        "colab": {
          "base_uri": "https://localhost:8080/",
          "height": 268
        },
        "outputId": "459a1329-14b9-4328-d3b3-1a5fea8aa209"
      },
      "source": [
        "%matplotlib inline\n",
        "import matplotlib.pyplot as plt\n",
        "X2 = X[:,:2]\n",
        "markers = ['o', '+', '^']\n",
        "for i in range(3):\n",
        "  xs = X2[:, 0][y == i]\n",
        "  ys = X2[:, 1][y == i]\n",
        "  plt.scatter(xs, ys, marker=markers[i])"
      ],
      "execution_count": 15,
      "outputs": [
        {
          "output_type": "display_data",
          "data": {
            "image/png": "[encoded data removed]",
            "text/plain": [
              "<Figure size 432x288 with 1 Axes>"
            ]
          },
          "metadata": {
            "tags": [],
            "needs_background": "light"
          }
        }
      ]
    },
    {
      "cell_type": "code",
      "metadata": {
        "colab": {
          "base_uri": "https://localhost:8080/"
        },
        "id": "3JX2UZ4I8-qM",
        "outputId": "6fa837db-5209-4e2c-890d-c50b1a3c26d3"
      },
      "source": [
        "y2=y.copy()\n",
        "y2[(y2 == 2)] = 1\n",
        "y2"
      ],
      "execution_count": 16,
      "outputs": [
        {
          "output_type": "execute_result",
          "data": {
            "text/plain": [
              "array([0, 0, 0, 0, 0, 0, 0, 0, 0, 0, 0, 0, 0, 0, 0, 0, 0, 0, 0, 0, 0, 0,\n",
              "       0, 0, 0, 0, 0, 0, 0, 0, 0, 0, 0, 0, 0, 0, 0, 0, 0, 0, 0, 0, 0, 0,\n",
              "       0, 0, 0, 0, 0, 0, 1, 1, 1, 1, 1, 1, 1, 1, 1, 1, 1, 1, 1, 1, 1, 1,\n",
              "       1, 1, 1, 1, 1, 1, 1, 1, 1, 1, 1, 1, 1, 1, 1, 1, 1, 1, 1, 1, 1, 1,\n",
              "       1, 1, 1, 1, 1, 1, 1, 1, 1, 1, 1, 1, 1, 1, 1, 1, 1, 1, 1, 1, 1, 1,\n",
              "       1, 1, 1, 1, 1, 1, 1, 1, 1, 1, 1, 1, 1, 1, 1, 1, 1, 1, 1, 1, 1, 1,\n",
              "       1, 1, 1, 1, 1, 1, 1, 1, 1, 1, 1, 1, 1, 1, 1, 1, 1, 1])"
            ]
          },
          "metadata": {
            "tags": []
          },
          "execution_count": 16
        }
      ]
    },
    {
      "cell_type": "code",
      "metadata": {
        "id": "fw_jFr8FroDI"
      },
      "source": [
        "from sklearn.model_selection import train_test_split\n",
        "\n",
        "X_train,X_test,y_train,y_test = train_test_split(X2,y2,random_state=0, test_size= 0.5)"
      ],
      "execution_count": 17,
      "outputs": []
    },
    {
      "cell_type": "code",
      "metadata": {
        "colab": {
          "base_uri": "https://localhost:8080/",
          "height": 265
        },
        "id": "E4E0HBW996v7",
        "outputId": "99cd7bd0-1a39-4fd0-92b8-5460bbc68919"
      },
      "source": [
        "markers = ['o', '+', '^']\n",
        "for i in range(3):\n",
        "  xs = X_train[:, 0][y_train == i]\n",
        "  ys = X_train[:, 1][y_train == i]\n",
        "  plt.scatter(xs, ys, marker=markers[i])"
      ],
      "execution_count": 19,
      "outputs": [
        {
          "output_type": "display_data",
          "data": {
            "image/png": "[encoded data removed]",
            "text/plain": [
              "<Figure size 432x288 with 1 Axes>"
            ]
          },
          "metadata": {
            "tags": [],
            "needs_background": "light"
          }
        }
      ]
    },
    {
      "cell_type": "code",
      "metadata": {
        "scrolled": true,
        "id": "UGUPyWKEroDN",
        "colab": {
          "base_uri": "https://localhost:8080/"
        },
        "outputId": "c3f2636c-3790-4443-d619-6b4b1dc62148"
      },
      "source": [
        "from sklearn.linear_model import SGDClassifier\n",
        "model = SGDClassifier()\n",
        "model.fit(X_train,y_train)"
      ],
      "execution_count": 20,
      "outputs": [
        {
          "output_type": "execute_result",
          "data": {
            "text/plain": [
              "SGDClassifier(alpha=0.0001, average=False, class_weight=None,\n",
              "              early_stopping=False, epsilon=0.1, eta0=0.0, fit_intercept=True,\n",
              "              l1_ratio=0.15, learning_rate='optimal', loss='hinge',\n",
              "              max_iter=1000, n_iter_no_change=5, n_jobs=None, penalty='l2',\n",
              "              power_t=0.5, random_state=None, shuffle=True, tol=0.001,\n",
              "              validation_fraction=0.1, verbose=0, warm_start=False)"
            ]
          },
          "metadata": {
            "tags": []
          },
          "execution_count": 20
        }
      ]
    },
    {
      "cell_type": "code",
      "metadata": {
        "id": "r95K-3ITosEs",
        "colab": {
          "base_uri": "https://localhost:8080/",
          "height": 283
        },
        "outputId": "4c0e3e03-f07e-47e1-fb8e-c5073ac7a97b"
      },
      "source": [
        "import numpy as np\n",
        "w1 = model.coef_[0,0]\n",
        "w2 = model.coef_[0,1]\n",
        "b = model.intercept_\n",
        "xx = np.linspace(4,8,50)\n",
        "yy = -(w1 * xx + b)/ w2\n",
        "\n",
        "markers = ['o', '+', '^']\n",
        "for i in range(3):\n",
        "  xs = X_train[:, 0][y_train == i]\n",
        "  ys = X_train[:, 1][y_train == i]\n",
        "  plt.scatter(xs, ys, marker=markers[i])\n",
        "\n",
        "plt.plot(xx,yy)"
      ],
      "execution_count": 26,
      "outputs": [
        {
          "output_type": "execute_result",
          "data": {
            "text/plain": [
              "[<matplotlib.lines.Line2D at 0x7f9b62721c50>]"
            ]
          },
          "metadata": {
            "tags": []
          },
          "execution_count": 26
        },
        {
          "output_type": "display_data",
          "data": {
            "image/png": "[encoded data removed]",
            "text/plain": [
              "<Figure size 432x288 with 1 Axes>"
            ]
          },
          "metadata": {
            "tags": [],
            "needs_background": "light"
          }
        }
      ]
    },
    {
      "cell_type": "markdown",
      "metadata": {
        "id": "ha9Y6_-jx8Rk"
      },
      "source": [
        "* -(a* xx + c) / b 이렇게 표현할 수도 있습니다.\n",
        "* -는 기울기가 위에서 아래방향으로 향하게 되므로 반대로 바꾸기 위해 '/' 주었습니다.\n",
        "* b로 나눈것은 꽂받침 길이의 가중치를(a), 넓이의 가중치(b) 비율로 선을 긋기 위해서입니다.\n",
        "* 그래서 두 가중치 비율만큼의 경계선에 선이 그려지게 됩니다.\n",
        "* $[x_2 = -{{a}\\over{b}} x_1 - {{c}\\over{b}}]$ <=> $[yy = -{{a}\\over{b}} xx - {{c}\\over{b}}]$"
      ]
    },
    {
      "cell_type": "markdown",
      "metadata": {
        "id": "Xb7SWFmlroDd"
      },
      "source": [
        "#### 4개 속성 모두 이용\n",
        "\n",
        "세가지 꽃 구분"
      ]
    },
    {
      "cell_type": "code",
      "metadata": {
        "id": "EcJl93ESroDe",
        "colab": {
          "base_uri": "https://localhost:8080/"
        },
        "outputId": "65703680-536e-4321-8d8b-c0a9658952d4"
      },
      "source": [
        "from sklearn import datasets\n",
        "from sklearn.model_selection import train_test_split\n",
        "from sklearn.linear_model import SGDClassifier\n",
        "from sklearn import metrics\n",
        "\n",
        "iris = datasets.load_iris()\n",
        "\n",
        "X_train,X_test,y_train,y_test = train_test_split(iris.data,iris.target,random_state=0)\n",
        "\n",
        "model=SGDClassifier(random_state=41)\n",
        "model.fit(X_train,y_train)"
      ],
      "execution_count": 33,
      "outputs": [
        {
          "output_type": "execute_result",
          "data": {
            "text/plain": [
              "SGDClassifier(alpha=0.0001, average=False, class_weight=None,\n",
              "              early_stopping=False, epsilon=0.1, eta0=0.0, fit_intercept=True,\n",
              "              l1_ratio=0.15, learning_rate='optimal', loss='hinge',\n",
              "              max_iter=1000, n_iter_no_change=5, n_jobs=None, penalty='l2',\n",
              "              power_t=0.5, random_state=41, shuffle=True, tol=0.001,\n",
              "              validation_fraction=0.1, verbose=0, warm_start=False)"
            ]
          },
          "metadata": {
            "tags": []
          },
          "execution_count": 33
        }
      ]
    },
    {
      "cell_type": "code",
      "metadata": {
        "colab": {
          "base_uri": "https://localhost:8080/"
        },
        "id": "pu471AcyJALf",
        "outputId": "3add6c7e-1a3a-4dca-d468-57f0a5e7f065"
      },
      "source": [
        "model.score(X_train,y_train), model.score(X_test,y_test)"
      ],
      "execution_count": 34,
      "outputs": [
        {
          "output_type": "execute_result",
          "data": {
            "text/plain": [
              "(0.9553571428571429, 0.9210526315789473)"
            ]
          },
          "metadata": {
            "tags": []
          },
          "execution_count": 34
        }
      ]
    }
  ]
}