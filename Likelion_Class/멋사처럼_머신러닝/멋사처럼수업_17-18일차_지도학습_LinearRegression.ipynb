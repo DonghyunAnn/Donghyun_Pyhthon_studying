{
  "nbformat": 4,
  "nbformat_minor": 0,
  "metadata": {
    "colab": {
      "name": "멋사처럼수업_17일차_지도학습_LinearRegression.ipynb",
      "provenance": [],
      "collapsed_sections": []
    },
    "kernelspec": {
      "name": "python3",
      "display_name": "Python 3"
    }
  },
  "cells": [
    {
      "cell_type": "markdown",
      "metadata": {
        "id": "tzfpevcS1YdM"
      },
      "source": [
        "코렙에서 한글 사용"
      ]
    },
    {
      "cell_type": "code",
      "metadata": {
        "colab": {
          "base_uri": "https://localhost:8080/"
        },
        "id": "SaD2b3Bv1U7U",
        "outputId": "f2a493cf-2239-4b4b-8690-fd3f1cbd38c0"
      },
      "source": [
        "!apt -qq -y install fonts-nanum\n",
        " \n",
        "import matplotlib.pyplot as plt\n",
        "import matplotlib.font_manager as fm\n",
        " \n",
        "fontpath = '/usr/share/fonts/truetype/nanum/NanumBarunGothic.ttf'\n",
        "font = fm.FontProperties(fname=fontpath, size=10)\n",
        "fm._rebuild()\n",
        " \n",
        "# 그래프에 retina display 적용\n",
        "%config InlineBackend.figure_format = 'retina'\n",
        " \n",
        "# Colab 의 한글 폰트 설정\n",
        "plt.rc('font', family='NanumBarunGothic') "
      ],
      "execution_count": null,
      "outputs": [
        {
          "output_type": "stream",
          "text": [
            "fonts-nanum is already the newest version (20170925-1).\n",
            "0 upgraded, 0 newly installed, 0 to remove and 30 not upgraded.\n"
          ],
          "name": "stdout"
        }
      ]
    },
    {
      "cell_type": "code",
      "metadata": {
        "id": "yQIi_JhK243G",
        "colab": {
          "base_uri": "https://localhost:8080/"
        },
        "outputId": "5fb1c0a5-6684-4d96-ba7e-52da943ea98c"
      },
      "source": [
        "!pip install mglearn"
      ],
      "execution_count": 199,
      "outputs": [
        {
          "output_type": "stream",
          "text": [
            "Requirement already satisfied: mglearn in /usr/local/lib/python3.7/dist-packages (0.1.9)\n",
            "Requirement already satisfied: joblib in /usr/local/lib/python3.7/dist-packages (from mglearn) (1.0.1)\n",
            "Requirement already satisfied: matplotlib in /usr/local/lib/python3.7/dist-packages (from mglearn) (3.2.2)\n",
            "Requirement already satisfied: imageio in /usr/local/lib/python3.7/dist-packages (from mglearn) (2.4.1)\n",
            "Requirement already satisfied: numpy in /usr/local/lib/python3.7/dist-packages (from mglearn) (1.19.5)\n",
            "Requirement already satisfied: scikit-learn in /usr/local/lib/python3.7/dist-packages (from mglearn) (0.22.2.post1)\n",
            "Requirement already satisfied: pandas in /usr/local/lib/python3.7/dist-packages (from mglearn) (1.1.5)\n",
            "Requirement already satisfied: cycler in /usr/local/lib/python3.7/dist-packages (from mglearn) (0.10.0)\n",
            "Requirement already satisfied: pillow in /usr/local/lib/python3.7/dist-packages (from mglearn) (7.1.2)\n",
            "Requirement already satisfied: pyparsing!=2.0.4,!=2.1.2,!=2.1.6,>=2.0.1 in /usr/local/lib/python3.7/dist-packages (from matplotlib->mglearn) (2.4.7)\n",
            "Requirement already satisfied: kiwisolver>=1.0.1 in /usr/local/lib/python3.7/dist-packages (from matplotlib->mglearn) (1.3.1)\n",
            "Requirement already satisfied: python-dateutil>=2.1 in /usr/local/lib/python3.7/dist-packages (from matplotlib->mglearn) (2.8.1)\n",
            "Requirement already satisfied: scipy>=0.17.0 in /usr/local/lib/python3.7/dist-packages (from scikit-learn->mglearn) (1.4.1)\n",
            "Requirement already satisfied: pytz>=2017.2 in /usr/local/lib/python3.7/dist-packages (from pandas->mglearn) (2018.9)\n",
            "Requirement already satisfied: six in /usr/local/lib/python3.7/dist-packages (from cycler->mglearn) (1.15.0)\n"
          ],
          "name": "stdout"
        }
      ]
    },
    {
      "cell_type": "markdown",
      "metadata": {
        "id": "xdlpRk691peC"
      },
      "source": [
        "# 지도학습 - 선형회귀 (Linear Regression)\n",
        "\n",
        "회귀 모델이란?\n",
        "\n",
        "- 어떤 자료에 대해서 그 값에 영향을 주는 조건을 고려하여 구한 평균 <br>\n",
        "(어떤 데이터들이 굉장히 크거나 작을지라도 전체적으로 이 데이터들은 전체 평균으로 회귀하려는 특징이 있다는 통계학 기법)\n"
      ]
    },
    {
      "cell_type": "markdown",
      "metadata": {
        "id": "8O0kNfUf_AhW"
      },
      "source": [
        "- \\\\( y = h(x_1, x_2, x_3, ..., x_k; W_1, W_2, W_3, ..., W_k) + \\epsilon \\\\)\n",
        "\n",
        " - h() : 조건에 따른 평균을 구하는 함수 (회귀 모델)\n",
        " - x : 어떤 조건(특성)\n",
        " - W : 각 조건의 영향력(가중치)\n",
        " - e : ‘오차항’을 의미. 다양한 현실적인 한계로 인해 발생하는 불확실성으로 일종의 잡음(noise)"
      ]
    },
    {
      "cell_type": "markdown",
      "metadata": {
        "id": "t9fnb7Bu4qFF"
      },
      "source": [
        "선형 모델이란?\n",
        "\n",
        "- 입력 특성에 대한 선형 함수를 만들어 예측을 수행\n",
        "\n",
        "- 다양한 선형 모델이 존재\n",
        "\n",
        "- 분류와 회귀에 모두 사용 가능\n"
      ]
    },
    {
      "cell_type": "markdown",
      "metadata": {
        "id": "vDXzxEss5F1M"
      },
      "source": [
        "<center>\n",
        "\n",
        "시험성적 데이터\n",
        "\n",
        "|X ( 학습 시간 )| Y ( 시험 점수 )|\n",
        "|---|---|\n",
        "|9 |90|\n",
        "|8 |80|\n",
        "|4| 40|\n",
        "|2| 20|\n",
        "\n",
        "7시간 공부 할 경우 성적은?\n",
        "</center>\n",
        "\n"
      ]
    },
    {
      "cell_type": "code",
      "metadata": {
        "id": "u8cTax-01dWx",
        "colab": {
          "base_uri": "https://localhost:8080/",
          "height": 287
        },
        "outputId": "6e7333bb-3cce-472f-b185-e35e06689ba3"
      },
      "source": [
        "import matplotlib.pyplot as plt\n",
        "%matplotlib inline\n",
        "\n",
        "x = [9, 8, 4, 2]\n",
        "y = [90, 80, 40, 20]\n",
        "\n",
        "plt.xlim(0, 10)\n",
        "plt.ylim(0, 100)\n",
        "plt.grid(True)\n",
        "plt.plot(x, y, 'b-o')"
      ],
      "execution_count": null,
      "outputs": [
        {
          "output_type": "execute_result",
          "data": {
            "text/plain": [
              "[<matplotlib.lines.Line2D at 0x7fc8372c97d0>]"
            ]
          },
          "metadata": {
            "tags": []
          },
          "execution_count": 7
        },
        {
          "output_type": "display_data",
          "data": {
            "image/png": "[encoded data removed]",
            "text/plain": [
              "<Figure size 432x288 with 1 Axes>"
            ]
          },
          "metadata": {
            "tags": [],
            "image/png": {
              "width": 379,
              "height": 253
            },
            "needs_background": "light"
          }
        }
      ]
    },
    {
      "cell_type": "markdown",
      "metadata": {
        "id": "JIfam4px_Myj"
      },
      "source": [
        " \\\\( y=ax+b \\\\)\n",
        "\n",
        " - a : 기울기\n",
        " - b : 절편"
      ]
    },
    {
      "cell_type": "markdown",
      "metadata": {
        "id": "DnaEGSFmUhs-"
      },
      "source": [
        "<center>\n",
        "\n",
        "시험성적 데이터\n",
        "\n",
        "|X ( 학습 시간 )| Y ( 시험 점수 )|\n",
        "|---|---|\n",
        "|8 |97|\n",
        "|6 |91|\n",
        "|4| 93|\n",
        "|2| 81|\n",
        "\n",
        "7시간 공부 할 경우 성적은?\n",
        "</center>\n",
        "\n"
      ]
    },
    {
      "cell_type": "code",
      "metadata": {
        "id": "fedN6VtvUxDC",
        "colab": {
          "base_uri": "https://localhost:8080/",
          "height": 287
        },
        "outputId": "19771ab4-7126-43a7-fbe6-dd801fe2c1f1"
      },
      "source": [
        "import matplotlib.pyplot as plt\n",
        "%matplotlib inline\n",
        "\n",
        "x = [2, 4, 6, 8]\n",
        "y = [81, 93, 91, 97]\n",
        "\n",
        "plt.xlim(0, 10)\n",
        "plt.ylim(75, 100)\n",
        "plt.grid(True)\n",
        "plt.plot(x, y, 'bo')"
      ],
      "execution_count": null,
      "outputs": [
        {
          "output_type": "execute_result",
          "data": {
            "text/plain": [
              "[<matplotlib.lines.Line2D at 0x7fc837188b10>]"
            ]
          },
          "metadata": {
            "tags": []
          },
          "execution_count": 10
        },
        {
          "output_type": "display_data",
          "data": {
            "image/png": "[encoded data removed]",
            "text/plain": [
              "<Figure size 432x288 with 1 Axes>"
            ]
          },
          "metadata": {
            "tags": [],
            "image/png": {
              "width": 379,
              "height": 253
            },
            "needs_background": "light"
          }
        }
      ]
    },
    {
      "cell_type": "markdown",
      "metadata": {
        "id": "AZoDgX3yVJqN"
      },
      "source": [
        " \\\\( y=ax+b \\\\)\n",
        "\n",
        " - a : 기울기\n",
        " - b : 절편"
      ]
    },
    {
      "cell_type": "markdown",
      "metadata": {
        "id": "Zcy0nntfaFaY"
      },
      "source": [
        "최소제곱법\n",
        "\n",
        "> \\\\( a=\\frac { (x-x평균)(y-y평균)의 합 }{ { (x-x평균) }^{ 2 }의 합 }  \\\\)\n",
        "\n",
        "- 공부한 시간(x)의 평균: (2+4+6+8) / 4 = 5\n",
        "- 성적(y)의 평균: (81+93+91+97) / 4 = 90.5\n",
        "\n",
        "> \\\\( b=y의 평균- (x의 평균 \\times 기울기 a) \\\\)\n",
        "\n",
        "- b = 90.5 - (2.3 x 5) = 79\n"
      ]
    },
    {
      "cell_type": "code",
      "metadata": {
        "id": "jLWJihbwYl-9",
        "colab": {
          "base_uri": "https://localhost:8080/"
        },
        "outputId": "0c245d1b-9251-4e92-9abd-729bfd4571d0"
      },
      "source": [
        "a = ( (2-5)*(81-90.5)+(4-5)*(93-90.5)+(6-5)*(91-90.5)+(8-5)*(97-90.5) )  /  ( (2-5)**2 + (4-5)**2 + (6-5)**2 + (8-5)**2 )\n",
        "a1 = ( (2-5)*(81-90.5)+(4-5)*(93-90.5)+(6-5)*(91-90.5)+(8-5)*(97-90.5) ) \n",
        "a2 = ( (2-5)**2 + (4-5)**2 + (6-5)**2 + (8-5)**2 )\n",
        "a1, a2, a"
      ],
      "execution_count": null,
      "outputs": [
        {
          "output_type": "execute_result",
          "data": {
            "text/plain": [
              "(46.0, 20, 2.3)"
            ]
          },
          "metadata": {
            "tags": []
          },
          "execution_count": 11
        }
      ]
    },
    {
      "cell_type": "code",
      "metadata": {
        "colab": {
          "base_uri": "https://localhost:8080/"
        },
        "id": "CrdpHT9JAOTg",
        "outputId": "5a9882d6-7484-4982-a58e-cce7459cf0b6"
      },
      "source": [
        "x = [2, 4, 6, 8]\n",
        "sum( [i*2 for i in x] )"
      ],
      "execution_count": null,
      "outputs": [
        {
          "output_type": "execute_result",
          "data": {
            "text/plain": [
              "40"
            ]
          },
          "metadata": {
            "tags": []
          },
          "execution_count": 17
        }
      ]
    },
    {
      "cell_type": "code",
      "metadata": {
        "id": "kKnSrYz5VA2h",
        "colab": {
          "base_uri": "https://localhost:8080/",
          "height": 283
        },
        "outputId": "f38cdd0d-4536-4cfa-fabb-7aa0a888cfe3"
      },
      "source": [
        "# 오차가 최저가 되는 직선\n",
        "import numpy as np\n",
        "\n",
        "# 기울기 a를 최소제곱법으로 구하는 함수\n",
        "def compute_a(x, y, mean_x, mean_y):\n",
        "  # 분자부분\n",
        "  d = 0\n",
        "  for i in range(len(x)):\n",
        "    d += (x[i] - mean_x) * (y[i] - mean_y)\n",
        "\n",
        "  # 분모부분\n",
        "  divisor = sum( [(i-mean_x)**2 for i in x] )\n",
        "\n",
        "  a = d / divisor\n",
        "  return a\n",
        "\n",
        "\n",
        "x = [2, 4, 6, 8]\n",
        "y = [81, 93, 91, 97]\n",
        "mx = np.mean(x)\n",
        "my = np.mean(y)\n",
        "\n",
        "a = compute_a(x, y, mx, my)\n",
        "b = my - (mx * a)\n",
        "\n",
        "y_new = [ a * x1 + b for x1 in x ]\n",
        "\n",
        "plt.grid(True)\n",
        "plt.plot(x, y, 'bo')\n",
        "plt.plot(x, y_new, 'r-o')"
      ],
      "execution_count": null,
      "outputs": [
        {
          "output_type": "execute_result",
          "data": {
            "text/plain": [
              "[<matplotlib.lines.Line2D at 0x7fc832f92510>]"
            ]
          },
          "metadata": {
            "tags": []
          },
          "execution_count": 18
        },
        {
          "output_type": "display_data",
          "data": {
            "image/png": "[encoded data removed]",
            "text/plain": [
              "<Figure size 432x288 with 1 Axes>"
            ]
          },
          "metadata": {
            "tags": [],
            "image/png": {
              "width": 376,
              "height": 249
            },
            "needs_background": "light"
          }
        }
      ]
    },
    {
      "cell_type": "markdown",
      "metadata": {
        "id": "qYTV7CoIAzvM"
      },
      "source": [
        "## 선형회귀(Linear Regression) <br>\n",
        " 또는 최소제곱법(Ordinary Least Squares)"
      ]
    },
    {
      "cell_type": "markdown",
      "metadata": {
        "id": "-9dzHbsARWp5"
      },
      "source": [
        "- 종속변수(응답변수) y와 한 개 이상의 독립변수(입력변수) x와의 상관관계를 모델링한 것\n",
        "\n",
        " >  \\\\( y=Wx+b \\\\)  \n",
        "  - (W : 가중치, b : 편향(bias))\n",
        "\n",
        " > \\\\( H(x)=Wx+b \\\\)  \n",
        "  - H(x) : Linear 하게 Hypothesis(가설)을 세운다는 것\n",
        "  - 데이터를 가장 잘 대변할 수 있는 H(x)의 W와 b를 정하는 것이 Linear Regression의 목적"
      ]
    },
    {
      "cell_type": "code",
      "metadata": {
        "id": "tfC8D6rOEqrr",
        "colab": {
          "base_uri": "https://localhost:8080/",
          "height": 283
        },
        "outputId": "d1e5003a-f187-4a14-c486-73fd1b9d78c1"
      },
      "source": [
        "import numpy as np\n",
        "\n",
        "def make_wave(n_samples=100):\n",
        "    rnd = np.random.RandomState(42)\n",
        "    x = rnd.uniform(-3, 3, size=n_samples)\n",
        "    y_no_noise = (np.sin(4 * x) + x)\n",
        "    y = (y_no_noise + rnd.normal(size=len(x))) / 2\n",
        "    return x.reshape(-1, 1), y\n",
        "\n",
        "X, y = make_wave(60)\n",
        "plt.scatter(X, y)"
      ],
      "execution_count": 53,
      "outputs": [
        {
          "output_type": "execute_result",
          "data": {
            "text/plain": [
              "<matplotlib.collections.PathCollection at 0x7fb977fe6b10>"
            ]
          },
          "metadata": {
            "tags": []
          },
          "execution_count": 53
        },
        {
          "output_type": "display_data",
          "data": {
            "image/png": "[encoded data removed]",
            "text/plain": [
              "<Figure size 432x288 with 1 Axes>"
            ]
          },
          "metadata": {
            "tags": [],
            "needs_background": "light"
          }
        }
      ]
    },
    {
      "cell_type": "code",
      "metadata": {
        "id": "x9KVI_qwOhKm",
        "colab": {
          "base_uri": "https://localhost:8080/",
          "height": 465
        },
        "outputId": "29650ba6-d7f3-4fb4-a54c-8a30df167ee5"
      },
      "source": [
        "import mglearn\n",
        "mglearn.plots.plot_linear_regression_wave()"
      ],
      "execution_count": 200,
      "outputs": [
        {
          "output_type": "stream",
          "text": [
            "w[0]: 0.393906  b: -0.031804\n"
          ],
          "name": "stdout"
        },
        {
          "output_type": "display_data",
          "data": {
            "image/png": "[encoded data removed]",
            "text/plain": [
              "<Figure size 576x576 with 1 Axes>"
            ]
          },
          "metadata": {
            "tags": [],
            "needs_background": "light"
          }
        }
      ]
    },
    {
      "cell_type": "markdown",
      "metadata": {
        "id": "XFhwV3SGPc-h"
      },
      "source": [
        "- 비용함수 (Cost / Cost function) : 그려진 직선 Hypothesis(H(x))와 실제 데이터(y)의 차이\n",
        "\n",
        "  - Cost = H(x) - y에 데이터를 대입하여 Cost의 총합을 구하는 것이 가능\n",
        "  - Cost의 총합이 작은 Hypothesis일수록 데이터를 잘 대변하는 훌륭한 Linear Regression\n",
        "  - Cost는 양수일 수도, 음수일 수도 있기에 이러한 문제를 방지하고자 총합을 구할 때 Cost값을 제곱하여 평균을 내는 방식(평균제곱오차, MSE, Mean Squared Error)을 사용\n",
        "  >  \\\\( cost(W,b)=\\cfrac { 1 }{ m } \\sum _{ i=1 }^{ m } { (H({ x }^{ (i) })-{ y }^{ (i) }) }^{ 2 }  \\\\)\n",
        "\n",
        "   > \\\\( H(x)=Wx+b \\\\)  \n",
        "\n",
        " - 머신러닝(or 딥러닝)에서 learning의 목적은 Cost를 정의하고 이를 최소화하는 것"
      ]
    },
    {
      "cell_type": "markdown",
      "metadata": {
        "id": "Mj6fB9tA0Ztt"
      },
      "source": [
        "#### 평균제곱오차 (MSE, Mean Squared Error) - 잘못그은 선 바로잡기\n",
        "\n",
        "- 실제값과 예측값의 차이를 분석하기 위한 것\n",
        "- 음수가 존재하는 경우 오차가 줄어드는 문제 -> 자승을 취함\n",
        "- 평균오차가 자승으로 인해 커지는 문제 -> 제곱근을 취함"
      ]
    },
    {
      "cell_type": "markdown",
      "metadata": {
        "id": "M3uRN2EZ_Ig6"
      },
      "source": [
        "|x(hour) | y(score)|\n",
        "|---|---|\n",
        "|0|0|\n",
        "|1|1|\n",
        "|2|2|\n",
        "|3|3|\n",
        "\n",
        "\\\\( H(x)=1 \\times  x+0 \\\\)  \n",
        "\n",
        "\\\\( H(x)=0.5 \\times x+0 \\\\)  "
      ]
    },
    {
      "cell_type": "code",
      "metadata": {
        "id": "cKHxN9cc0INF",
        "colab": {
          "base_uri": "https://localhost:8080/",
          "height": 283
        },
        "outputId": "cdb2846d-5d5a-4ba9-af39-58dc6f8d59f8"
      },
      "source": [
        "import numpy as np\n",
        "import matplotlib.pyplot as plt\n",
        "%matplotlib inline\n",
        "\n",
        "x = np.array([0, 1, 2, 3])\n",
        "y = np.array([0, 1, 2, 3])\n",
        "\n",
        "# 가중치(계수) 및 편향(절편)\n",
        "w = 1\n",
        "b = 0\n",
        "y_pred = w * x + b\n",
        "plt.scatter(x, y_pred)\n",
        "plt.plot(x, y_pred)\n",
        "\n",
        "w = 0.5\n",
        "b = 0\n",
        "y_pred1 = w * x + b\n",
        "plt.scatter(x, y_pred1)\n",
        "plt.plot(x, y_pred1)"
      ],
      "execution_count": null,
      "outputs": [
        {
          "output_type": "execute_result",
          "data": {
            "text/plain": [
              "[<matplotlib.lines.Line2D at 0x7fc81d3eb190>]"
            ]
          },
          "metadata": {
            "tags": []
          },
          "execution_count": 30
        },
        {
          "output_type": "display_data",
          "data": {
            "image/png": "[encoded data removed]",
            "text/plain": [
              "<Figure size 432x288 with 1 Axes>"
            ]
          },
          "metadata": {
            "tags": [],
            "image/png": {
              "width": 370,
              "height": 249
            },
            "needs_background": "light"
          }
        }
      ]
    },
    {
      "cell_type": "markdown",
      "metadata": {
        "id": "J1A75RiIBl4-"
      },
      "source": [
        "#### 평균제곱오차 (MSE, Mean Squared Error) 연습 01\n",
        "가설의 MSE 값을 계산해보자.\n"
      ]
    },
    {
      "cell_type": "markdown",
      "metadata": {
        "id": "10mOqCgJB0mQ"
      },
      "source": [
        "\\\\( \\cfrac { { (H({ x }^{ (1) })-{ y }^{ (1) }) }^{ 2 } + { (H({ x }^{ (2) })-{ y }^{ (2) }) }^{ 2 }+ { (H({ x }^{ (3) })-{ y }^{ (3) }) }^{ 2 }+ { (H({ x }^{ (4) })-{ y }^{ (4) }) }^{ 2 } }{ 4 } = ? \\\\)"
      ]
    },
    {
      "cell_type": "code",
      "metadata": {
        "id": "VS07VHo373-N",
        "colab": {
          "base_uri": "https://localhost:8080/"
        },
        "outputId": "bf8933cc-56c6-4201-e4f1-5f9e1255ec06"
      },
      "source": [
        "# y_pred(예측값), y(실제값)\n",
        "def MSE(y_pred, y):\n",
        "  cost = np.sum( (y_pred - y)**2 ) / len(y)\n",
        "  return cost\n",
        "\n",
        "c = MSE(y_pred, y)\n",
        "c1 = MSE(y_pred1, y)\n",
        "c, c1"
      ],
      "execution_count": null,
      "outputs": [
        {
          "output_type": "execute_result",
          "data": {
            "text/plain": [
              "(0.0, 0.875)"
            ]
          },
          "metadata": {
            "tags": []
          },
          "execution_count": 31
        }
      ]
    },
    {
      "cell_type": "markdown",
      "metadata": {
        "id": "Jj0QGZXbDmZW"
      },
      "source": [
        "#### 경사하강법 (Gradient descent algorithm) - 오차 수정하기\n",
        "\n",
        "어떻게 비용함수 값이 최소가 되는 W 파라미터를 구할 수 있을까?\n",
        "\n",
        "- 점진적인 하강, 점진적으로 반복적인 계산을 통해 W 파라미터 값을 업데이트 하면서 오류 값이 최소가 되는 값을 구하는 방식\n",
        "\n",
        "- 함수의 기울기(경사)를 구하여 기울기가 낮은 쪽으로 \n",
        "계속 이동하여 값을 최적화 시키는 방법 <br> (오차 (기울기)가 가장 작은 방향으로 이동시키는 방법)\n"
      ]
    },
    {
      "cell_type": "markdown",
      "metadata": {
        "id": "kvkSrjnwHRAn"
      },
      "source": [
        "learning_rate(학습 속도)란?\n",
        "\n",
        "- W와 b의 미분 값(W_grad, b_grade)을 얼마만큼 반영할지를 결정하는 값.\n",
        "- 주로 0.001, 0.00001과 같은 매우 작은 값을 사용하며 learning_rate가 클수록 변화가 빠르며, learning_rate가 작을수록 변화가 느리다고 예상.\n",
        "- 꼭 변화가 빠르다고 해서 결과를 빨리 볼 수 있는 것은 아님."
      ]
    },
    {
      "cell_type": "code",
      "metadata": {
        "id": "VU_RbVfhFOXa",
        "colab": {
          "base_uri": "https://localhost:8080/",
          "height": 625
        },
        "outputId": "0d03e862-23ce-4e6e-9ad1-0f15a033388f"
      },
      "source": [
        "import numpy as np\n",
        "import matplotlib.pyplot as plt\n",
        "w_val = []\n",
        "cost_val = []\n",
        "\n",
        "n_samples = 200\n",
        "x = np.random.randn(n_samples)\n",
        "\n",
        "y = 2 * x + 4 + np.random.randn(n_samples)\n",
        "\n",
        "num_epoch = 20  # 반복횟수\n",
        "lr = 0.7        # learning_rate(학습 속도)\n",
        "\n",
        "w = np.random.uniform()\n",
        "b = np.random.uniform()\n",
        "\n",
        "for epoch in range(num_epoch):\n",
        "  y_pred = w * x + b\n",
        "  cost = np.abs(y_pred - y).mean() # MAE\n",
        "  xx = lr * ((y_pred - y) * x).mean()\n",
        "  print(f\"{epoch:2} w = {w:.6f}, b = {b:.6f}, cost = {cost:.6f}, (y_pred-y).mean() = {xx:.6f}\")\n",
        "  \n",
        "  w = w - lr * ((y_pred - y) * x).mean()\n",
        "  b = b - lr * (y_pred - y).mean()\n",
        "\n",
        "  w_val.append(w)\n",
        "  cost_val.append(cost)\n",
        "\n",
        "\n",
        "plt.plot(w_val, cost_val)\n",
        "plt.show()"
      ],
      "execution_count": 2,
      "outputs": [
        {
          "output_type": "stream",
          "text": [
            " 0 w = 0.105972, b = 0.503813, cost = 3.500261, (y_pred-y).mean() = -1.204714\n",
            " 1 w = 1.310686, b = 2.897409, cost = 1.282007, (y_pred-y).mean() = -0.381632\n",
            " 2 w = 1.692318, b = 3.659521, cost = 0.856541, (y_pred-y).mean() = -0.121036\n",
            " 3 w = 1.813354, b = 3.902103, cost = 0.806669, (y_pred-y).mean() = -0.038419\n",
            " 4 w = 1.851773, b = 3.979301, cost = 0.803188, (y_pred-y).mean() = -0.012202\n",
            " 5 w = 1.863975, b = 4.003865, cost = 0.802751, (y_pred-y).mean() = -0.003877\n",
            " 6 w = 1.867852, b = 4.011680, cost = 0.802671, (y_pred-y).mean() = -0.001232\n",
            " 7 w = 1.869084, b = 4.014166, cost = 0.802648, (y_pred-y).mean() = -0.000392\n",
            " 8 w = 1.869476, b = 4.014957, cost = 0.802640, (y_pred-y).mean() = -0.000125\n",
            " 9 w = 1.869600, b = 4.015209, cost = 0.802638, (y_pred-y).mean() = -0.000040\n",
            "10 w = 1.869640, b = 4.015289, cost = 0.802637, (y_pred-y).mean() = -0.000013\n",
            "11 w = 1.869653, b = 4.015314, cost = 0.802637, (y_pred-y).mean() = -0.000004\n",
            "12 w = 1.869657, b = 4.015322, cost = 0.802636, (y_pred-y).mean() = -0.000001\n",
            "13 w = 1.869658, b = 4.015325, cost = 0.802636, (y_pred-y).mean() = -0.000000\n",
            "14 w = 1.869658, b = 4.015326, cost = 0.802636, (y_pred-y).mean() = -0.000000\n",
            "15 w = 1.869658, b = 4.015326, cost = 0.802636, (y_pred-y).mean() = -0.000000\n",
            "16 w = 1.869658, b = 4.015326, cost = 0.802636, (y_pred-y).mean() = -0.000000\n",
            "17 w = 1.869658, b = 4.015326, cost = 0.802636, (y_pred-y).mean() = -0.000000\n",
            "18 w = 1.869658, b = 4.015326, cost = 0.802636, (y_pred-y).mean() = -0.000000\n",
            "19 w = 1.869658, b = 4.015326, cost = 0.802636, (y_pred-y).mean() = -0.000000\n"
          ],
          "name": "stdout"
        },
        {
          "output_type": "display_data",
          "data": {
            "image/png": "[encoded data removed]",
            "text/plain": [
              "<Figure size 432x288 with 1 Axes>"
            ]
          },
          "metadata": {
            "tags": [],
            "needs_background": "light"
          }
        }
      ]
    },
    {
      "cell_type": "code",
      "metadata": {
        "id": "XA9nBY7nLXG8",
        "colab": {
          "base_uri": "https://localhost:8080/",
          "height": 283
        },
        "outputId": "aab36e57-cccb-4e22-af37-362928ab5a32"
      },
      "source": [
        "plt.plot(x,y_pred, marker='o')"
      ],
      "execution_count": 4,
      "outputs": [
        {
          "output_type": "execute_result",
          "data": {
            "text/plain": [
              "[<matplotlib.lines.Line2D at 0x7fb98f0f1f50>]"
            ]
          },
          "metadata": {
            "tags": []
          },
          "execution_count": 4
        },
        {
          "output_type": "display_data",
          "data": {
            "image/png": "[encoded data removed]",
            "text/plain": [
              "<Figure size 432x288 with 1 Axes>"
            ]
          },
          "metadata": {
            "tags": [],
            "needs_background": "light"
          }
        }
      ]
    },
    {
      "cell_type": "markdown",
      "metadata": {
        "id": "2eanx1s7gAP8"
      },
      "source": [
        "#### LinearRegression 실습 01\n",
        "\n",
        "배달시간 예측\n",
        "- 설정 거리의 장소에 배달하려면 얼마나 걸리는지 예측"
      ]
    },
    {
      "cell_type": "code",
      "metadata": {
        "id": "T_GscF7PgL13"
      },
      "source": [
        "import numpy as np \n",
        "from matplotlib import pyplot as plt \n",
        "import pandas as pd"
      ],
      "execution_count": 15,
      "outputs": []
    },
    {
      "cell_type": "code",
      "metadata": {
        "id": "FAZbnF7wgNhW",
        "colab": {
          "base_uri": "https://localhost:8080/"
        },
        "outputId": "ba92552d-6a18-4378-c375-1a2155e97152"
      },
      "source": [
        "# 배달거리와 배달시간 데이터\n",
        "data = np.array([\n",
        "    [100, 20], \n",
        "\t\t[150, 24], \n",
        "\t\t[300, 36], \n",
        "\t\t[400, 47], \n",
        "\t\t[130, 22], \n",
        "\t\t[240, 32],\n",
        "\t\t[350, 47], \n",
        "\t\t[200, 42], \n",
        "\t\t[100, 21], \n",
        "\t\t[110, 21], \n",
        "\t\t[190, 30], \n",
        "\t\t[120, 25], \n",
        "\t\t[130, 18], \n",
        "\t\t[270, 38], \n",
        "\t\t[255, 28]])\n",
        "\n",
        "data[:,0]"
      ],
      "execution_count": 32,
      "outputs": [
        {
          "output_type": "execute_result",
          "data": {
            "text/plain": [
              "array([100, 150, 300, 400, 130, 240, 350, 200, 100, 110, 190, 120, 130,\n",
              "       270, 255])"
            ]
          },
          "metadata": {
            "tags": []
          },
          "execution_count": 32
        }
      ]
    },
    {
      "cell_type": "code",
      "metadata": {
        "id": "9ILCBwKLg2BD"
      },
      "source": [
        "# 기울기 a를 최소제곱법으로 구하는 함수\n",
        "def compute_a(x, y, mean_x, mean_y):\n",
        "  # 분자부분\n",
        "  d = 0\n",
        "  for i in range(len(x)):\n",
        "    d += (x[i] - mean_x) * (y[i] - mean_y)\n",
        "\n",
        "  # 분모부분\n",
        "  divisor = sum( [(i-mean_x)**2 for i in x] )\n",
        "\n",
        "  a = d / divisor\n",
        "  return a\n",
        "x = data[:,0]\n",
        "y = data[:,1]\n",
        "x_mean = x.mean()\n",
        "y_mean = y.mean()\n",
        "\n",
        "a= compute_a(x,y,x_mean,y_mean)\n",
        "b = y_mean - x_mean*a\n"
      ],
      "execution_count": 34,
      "outputs": []
    },
    {
      "cell_type": "code",
      "metadata": {
        "id": "JoFOSgh8g7K8",
        "colab": {
          "base_uri": "https://localhost:8080/",
          "height": 265
        },
        "outputId": "65925a54-6d46-4e41-aaf6-48c69efed31a"
      },
      "source": [
        "y_pred= [a*i +b for i in x]\n",
        "plt.scatter(x,y)\n",
        "plt.plot(x,y_pred,'ro-')\n",
        "plt.show() "
      ],
      "execution_count": 36,
      "outputs": [
        {
          "output_type": "display_data",
          "data": {
            "image/png": "[encoded data removed]",
            "text/plain": [
              "<Figure size 432x288 with 1 Axes>"
            ]
          },
          "metadata": {
            "tags": [],
            "needs_background": "light"
          }
        }
      ]
    },
    {
      "cell_type": "markdown",
      "metadata": {
        "id": "P1L6YCM3hIwZ"
      },
      "source": [
        "- 예측하기 (거리가 350인경우 배달시간)"
      ]
    },
    {
      "cell_type": "code",
      "metadata": {
        "id": "ifLJo7sihIRo",
        "colab": {
          "base_uri": "https://localhost:8080/"
        },
        "outputId": "e0c8cd27-a735-4cc5-e991-6ae83018ff62"
      },
      "source": [
        "y_new = a*350 + b\n",
        "y_new"
      ],
      "execution_count": 37,
      "outputs": [
        {
          "output_type": "execute_result",
          "data": {
            "text/plain": [
              "43.63440484509667"
            ]
          },
          "metadata": {
            "tags": []
          },
          "execution_count": 37
        }
      ]
    },
    {
      "cell_type": "markdown",
      "metadata": {
        "id": "Nbk5500uw5Kf"
      },
      "source": [
        "#### 일반 선형회귀\n",
        "\n",
        "예측값과 실제 값의 cost를 최소화할 수 있도록 W(가중치, 회귀계수)를 최적화하며, 규제(Regularization)를 적용하지 않은 모델"
      ]
    },
    {
      "cell_type": "markdown",
      "metadata": {
        "id": "yjsCKwrgsjou"
      },
      "source": [
        "단순 선형회귀 (Simple Linear Regression)\n",
        "> \\\\( H({ x })={ W }{ x }+b \\\\)\n",
        "\n",
        "다변수 선형회귀 (Multi-variable Linear Regreesion)\n",
        "> 변수가 3개 일때의 H(x) <br>\n",
        "> \\\\( H({ x }_{ 1 },{ x }_{ 2 },{ x }_{ 3 })={ W }_{ 1 }{ x }_{ 1 }+{ W }_{ 2 }{ x }_{ 2 }+{ W }_{ 3 }{ x }_{ 3 }+b \\\\)\n",
        "\n",
        "> 변수가 n개 일때의 H(x) <br>\n",
        ">  \\\\( H({ x }_{ 1 },{ x }_{ 2 },{ x }_{ 3 },\\dots ,{ x }_{ n })={ W }_{ 1 }{ x }_{ 1 }+{ W }_{ 2 }{ x }_{ 2 }+{ W }_{ 3 }{ x }_{ 3 }+\\dots +{ W }_{ n }{ x }_{ n }+b \\\\)\n",
        "\n",
        "다항 회귀 (Polynomial Regreesion)\n",
        "> 회귀가 독립변수의 단항식이 아닌 2차, 3차 방정식과 같은 다항식으로 표현되는 것 <br>\n",
        "> 차수가 높아질수록 과적합의 문제가 발생\n"
      ]
    },
    {
      "cell_type": "code",
      "metadata": {
        "id": "yHOmjG5DxhDn",
        "colab": {
          "base_uri": "https://localhost:8080/",
          "height": 283
        },
        "outputId": "a391b659-2d1f-427c-c362-ade3f946c075"
      },
      "source": [
        "import numpy as np\n",
        "import matplotlib.pyplot as plt\n",
        "%matplotlib inline\n",
        "\n",
        "n = 100\n",
        "\n",
        "x = 6 * np.random.rand(n, 1) - 3\n",
        "y = 0.5 * x**2 + x + 2 + np.random.rand(n, 1)\n",
        "\n",
        "plt.scatter(x, y, s=5)"
      ],
      "execution_count": 104,
      "outputs": [
        {
          "output_type": "execute_result",
          "data": {
            "text/plain": [
              "<matplotlib.collections.PathCollection at 0x7fb9778f1bd0>"
            ]
          },
          "metadata": {
            "tags": []
          },
          "execution_count": 104
        },
        {
          "output_type": "display_data",
          "data": {
            "image/png": "[encoded data removed]",
            "text/plain": [
              "<Figure size 432x288 with 1 Axes>"
            ]
          },
          "metadata": {
            "tags": [],
            "needs_background": "light"
          }
        }
      ]
    },
    {
      "cell_type": "code",
      "metadata": {
        "id": "SpYNOsFfyNL_",
        "colab": {
          "base_uri": "https://localhost:8080/"
        },
        "outputId": "c69a46b1-45b0-4e02-9454-dff4e755251a"
      },
      "source": [
        "from sklearn.preprocessing import PolynomialFeatures\n",
        "\n",
        "poly_features = PolynomialFeatures(degree=2, include_bias = False)\n",
        "x_poly = poly_features.fit_transform(x)\n",
        "x[0], x_poly[0]"
      ],
      "execution_count": 66,
      "outputs": [
        {
          "output_type": "execute_result",
          "data": {
            "text/plain": [
              "(array([-0.86670225]), array([-0.86670225,  0.7511728 ]))"
            ]
          },
          "metadata": {
            "tags": []
          },
          "execution_count": 66
        }
      ]
    },
    {
      "cell_type": "code",
      "metadata": {
        "id": "YyCW-fT9yr-y",
        "colab": {
          "base_uri": "https://localhost:8080/"
        },
        "outputId": "c6f7f717-dd68-479f-e8e4-0a85c818b019"
      },
      "source": [
        "from sklearn.linear_model import LinearRegression\n",
        "\n",
        "model = LinearRegression()\n",
        "model.fit(x_poly, y)\n",
        "model.intercept_,model.coef_"
      ],
      "execution_count": 78,
      "outputs": [
        {
          "output_type": "execute_result",
          "data": {
            "text/plain": [
              "(array([2.47089125]), array([[1.0085042 , 0.51920203]]))"
            ]
          },
          "metadata": {
            "tags": []
          },
          "execution_count": 78
        }
      ]
    },
    {
      "cell_type": "code",
      "metadata": {
        "id": "gu2AjaFHzHbv",
        "colab": {
          "base_uri": "https://localhost:8080/",
          "height": 284
        },
        "outputId": "9edb2b8e-f6d7-4c83-bfd4-75d56cbc4d99"
      },
      "source": [
        "# plt\n",
        "a1 = model.coef_[0][1]\n",
        "a2 = model.coef_[0][0]\n",
        "b = model.intercept_\n",
        "\n",
        "y_pred = [a1*i**2 + a2*i +b for i in x]\n",
        "\n",
        "plt.scatter(x,y)\n",
        "plt.scatter(x,y_pred)"
      ],
      "execution_count": 87,
      "outputs": [
        {
          "output_type": "execute_result",
          "data": {
            "text/plain": [
              "<matplotlib.collections.PathCollection at 0x7fb977a1ef90>"
            ]
          },
          "metadata": {
            "tags": []
          },
          "execution_count": 87
        },
        {
          "output_type": "display_data",
          "data": {
            "image/png": "[encoded data removed]",
            "text/plain": [
              "<Figure size 432x288 with 1 Axes>"
            ]
          },
          "metadata": {
            "tags": [],
            "needs_background": "light"
          }
        }
      ]
    },
    {
      "cell_type": "markdown",
      "metadata": {
        "id": "5DxiZrfdZX5i"
      },
      "source": [
        "#### LinearRegression 실습 02\n",
        "\n",
        "wave 데이터셋에 선형회귀 적용"
      ]
    },
    {
      "cell_type": "markdown",
      "metadata": {
        "id": "kmw0fII4Zmgg"
      },
      "source": [
        "LinearRegression()\n",
        "```\n",
        "LinearRegression(fit_intercept, normalize, copy_X, n_jobs)\n",
        "```\n",
        "- fit_intercept : 모형에 상수항 (절편)이 있는가 없는가를 결정하는 인수 (default : True)\n",
        "- normalize : 매개변수 무시 여부\n",
        "- copy_X : X의 복사 여부\n",
        "- n_jobs : 계산에 사용할 작업 수"
      ]
    },
    {
      "cell_type": "code",
      "metadata": {
        "id": "jVbmkpHYTbau",
        "colab": {
          "base_uri": "https://localhost:8080/"
        },
        "outputId": "f2a785af-061b-46e2-9164-83370b1f60a1"
      },
      "source": [
        "from sklearn.linear_model import LinearRegression\n",
        "from sklearn.model_selection import train_test_split\n",
        "\n",
        "X, y = make_wave(60)\n",
        "X_train, X_test, y_train, y_test = train_test_split(\n",
        "                                      X,\n",
        "                                      y,\n",
        "                                      random_state=42 )\n",
        "\n",
        "model = LinearRegression()\n",
        "model.fit(X_train,y_train)\n",
        "model.coef_, model.intercept_   # 사이킷런에서 내부에서 사용되는 속성은 _를 씀\n",
        "print('훈련세트점수', model.score(X_train, y_train))\n",
        "print('테스트세트점수', model.score(X_test, y_test))"
      ],
      "execution_count": 105,
      "outputs": [
        {
          "output_type": "stream",
          "text": [
            "훈련세트점수 0.6700890315075756\n",
            "테스트세트점수 0.65933685968637\n"
          ],
          "name": "stdout"
        }
      ]
    },
    {
      "cell_type": "markdown",
      "metadata": {
        "id": "JndXaYCXWD-s"
      },
      "source": [
        "0.66 낮은 점수 => 과대적합? or 과소적합?\n",
        "\n",
        "- <font  color=yellow>훈련 셋과 테스트 셋의 경우 정확도가 유사하지만 정확도가 많이 떨어짐 -> 과소적합</font>\n",
        "\n",
        "- 사용한 특성이 단순하기 때문에 발생"
      ]
    },
    {
      "cell_type": "markdown",
      "metadata": {
        "id": "iS3Z1WahWg6x"
      },
      "source": [
        "훈련 세트 점수와 테스트 세트 점수가 매우 비슷 이는 과대적합이 아니라 과소적합인 상태를 의미"
      ]
    },
    {
      "cell_type": "markdown",
      "metadata": {
        "id": "-jMNxFfcW8VS"
      },
      "source": [
        "- 1차원 데이터셋에서는 모델이 매우 단순하므로 (혹은 제한적이므로) 과대적합을 걱정할 필요다. \n",
        "- (특성이 많은) 고차원 데이터셋에서는 선형 모델의 성능이 매우 높아져서 과대적합될 가능성이 높다."
      ]
    },
    {
      "cell_type": "markdown",
      "metadata": {
        "id": "z4Bh1Sz1a4hn"
      },
      "source": [
        "#### LinearRegression 실습 03 - 1\n",
        "변수가 1개인 경우"
      ]
    },
    {
      "cell_type": "code",
      "metadata": {
        "id": "-1VVo3XXYxNp",
        "colab": {
          "base_uri": "https://localhost:8080/",
          "height": 286
        },
        "outputId": "679b2a53-8501-4833-95ef-281d7564c665"
      },
      "source": [
        "import numpy as np\n",
        "import pandas as pd\n",
        "import matplotlib.pyplot as plt\n",
        "%matplotlib inline\n",
        "\n",
        "n_samples = 200\n",
        "x = np.random.randn(n_samples)\n",
        "\n",
        "# 계수 및 절편\n",
        "w=2\n",
        "b=3\n",
        "\n",
        "# 노이즈\n",
        "y= w*x +b+np.random.randn(n_samples)\n",
        "plt.scatter(x,y,s=5)"
      ],
      "execution_count": 111,
      "outputs": [
        {
          "output_type": "execute_result",
          "data": {
            "text/plain": [
              "<matplotlib.collections.PathCollection at 0x7fb9778d4c90>"
            ]
          },
          "metadata": {
            "tags": []
          },
          "execution_count": 111
        },
        {
          "output_type": "display_data",
          "data": {
            "image/png": "[encoded data removed]",
            "text/plain": [
              "<Figure size 432x288 with 1 Axes>"
            ]
          },
          "metadata": {
            "tags": [],
            "needs_background": "light"
          }
        }
      ]
    },
    {
      "cell_type": "code",
      "metadata": {
        "id": "ePYdE9K_bVTq",
        "colab": {
          "base_uri": "https://localhost:8080/"
        },
        "outputId": "5638f3cd-a227-4605-f395-66572de827b8"
      },
      "source": [
        "# 피어슨 상관계수 값을 계산\n",
        "# 그래프 기울기 방향 '\\'\n",
        "# 가로축, 세로축에 x, y를 두었을 때 자기 자신하고 비교하면 무조건 상관계수가 1이 나오는 특성 때문\n",
        "np.corrcoef(x, y)"
      ],
      "execution_count": 114,
      "outputs": [
        {
          "output_type": "execute_result",
          "data": {
            "text/plain": [
              "array([[1.       , 0.9062344],\n",
              "       [0.9062344, 1.       ]])"
            ]
          },
          "metadata": {
            "tags": []
          },
          "execution_count": 114
        }
      ]
    },
    {
      "cell_type": "code",
      "metadata": {
        "id": "qx5BfGGRxU_a",
        "colab": {
          "base_uri": "https://localhost:8080/"
        },
        "outputId": "3c34a8ef-0114-4c28-ef88-224257ee357a"
      },
      "source": [
        "from sklearn.linear_model import LinearRegression\n",
        "\n",
        "model = LinearRegression()\n",
        "\n",
        "model.fit(x.reshape(-1,1), y)     # 피쳐로 들어가는 것은 \n",
        "\n",
        "model.coef_, model.intercept_"
      ],
      "execution_count": 116,
      "outputs": [
        {
          "output_type": "execute_result",
          "data": {
            "text/plain": [
              "(array([2.00350007]), 2.9482483411861695)"
            ]
          },
          "metadata": {
            "tags": []
          },
          "execution_count": 116
        }
      ]
    },
    {
      "cell_type": "markdown",
      "metadata": {
        "id": "Ng3cFbqyxxzD"
      },
      "source": [
        "#### LinearRegression 실습 03 - 2\n",
        "변수가 2개인 경우\n",
        "\n",
        "다변수 선형 회귀 (Multi-variable Linear Regreesion)\n",
        "\n"
      ]
    },
    {
      "cell_type": "code",
      "metadata": {
        "id": "TXkZvEV3VDYU",
        "colab": {
          "base_uri": "https://localhost:8080/"
        },
        "outputId": "4f0a038d-19be-435e-f452-affb2ef58b8e"
      },
      "source": [
        "n_samples = 200\n",
        "\n",
        "x1 = np.random.randn(n_samples)\n",
        "x2 = np.random.randn(n_samples)\n",
        "\n",
        "y = 2*x1 + 3*x2 + 4 +np.random.randn(n_samples)\n",
        "\n",
        "model = LinearRegression()\n",
        "X = pd.DataFrame({'x1':x1 , 'x2':x2})\n",
        "\n",
        "model.fit(X,y)\n",
        "\n",
        "model.coef_, model.intercept_"
      ],
      "execution_count": 159,
      "outputs": [
        {
          "output_type": "execute_result",
          "data": {
            "text/plain": [
              "(array([1.96036423, 3.013977  ]), 3.9582179900428884)"
            ]
          },
          "metadata": {
            "tags": []
          },
          "execution_count": 159
        }
      ]
    },
    {
      "cell_type": "markdown",
      "metadata": {
        "id": "oboDfCRrOH5I"
      },
      "source": [
        "#### LinearRegression 실습 04\n",
        "\n",
        "보스턴 집값 데이터셋 구성\n",
        "- 506개의 데이터\n",
        "- 13개의 정보와 1개의 클래스로 구성\n",
        "```\n",
        "0 CRIM : 인구 1인당 범죄 발생 수\n",
        "1 ZN : 25,000평방 피트 이상의 주거 구역 비중\n",
        "2 INDUS : 소매업 외 상업이 차지하는 면적 비율\n",
        "3 CHAS : 찰스강 위치 변수 (1: 강 주변, 0: 이외)\n",
        "4 NOX : 일산화질소 농도\n",
        "5 RM : 집의 평균 방 수\n",
        "6 AGE : 1940년 이전 지어진 비율\n",
        "7 DIS : 5가지 보스턴 시 고용 시설까지의 거리\n",
        "8 RAD : 순환고속도로의 접근 용이성\n",
        "9 TAX : $10,000당 부동산 세율 총계\n",
        "10 PTRATIO : 지역별 학생과 교사 비율\n",
        "11 B : 지역별 흑인 비율\n",
        "12 LSTAT : 급여가 낮은 직업에 종사하는 인구 비율 (%)\n",
        "13 MEDV : 가격 (단위 : $1,000)\n",
        "```"
      ]
    },
    {
      "cell_type": "code",
      "metadata": {
        "id": "jIu2HFrgPgGJ"
      },
      "source": [
        "import numpy as np\n",
        "import pandas as pd\n",
        "import matplotlib.pyplot as plt\n",
        "import seaborn as sns\n",
        "%matplotlib inline"
      ],
      "execution_count": 160,
      "outputs": []
    },
    {
      "cell_type": "code",
      "metadata": {
        "id": "DYxsl-KuRNbA",
        "colab": {
          "base_uri": "https://localhost:8080/"
        },
        "outputId": "f048afd3-2f7b-4272-a117-faa691ad8ea3"
      },
      "source": [
        "from sklearn.datasets import load_boston\n",
        "\n",
        "boston = load_boston()\n",
        "boston.keys()"
      ],
      "execution_count": 161,
      "outputs": [
        {
          "output_type": "execute_result",
          "data": {
            "text/plain": [
              "dict_keys(['data', 'target', 'feature_names', 'DESCR', 'filename'])"
            ]
          },
          "metadata": {
            "tags": []
          },
          "execution_count": 161
        }
      ]
    },
    {
      "cell_type": "code",
      "metadata": {
        "id": "nvgAWeVWRjP2",
        "colab": {
          "base_uri": "https://localhost:8080/",
          "height": 204
        },
        "outputId": "86e72d85-650c-49c3-a896-113a33bc9a17"
      },
      "source": [
        "# 데이터 세트 DataFrame 변환\n",
        "boston_df = pd.DataFrame(boston.data,columns = boston.feature_names)\n",
        "boston_df['price'] = boston.target\n",
        "boston_df.head()"
      ],
      "execution_count": 165,
      "outputs": [
        {
          "output_type": "execute_result",
          "data": {
            "text/html": [
              "<div>\n",
              "<style scoped>\n",
              "    .dataframe tbody tr th:only-of-type {\n",
              "        vertical-align: middle;\n",
              "    }\n",
              "\n",
              "    .dataframe tbody tr th {\n",
              "        vertical-align: top;\n",
              "    }\n",
              "\n",
              "    .dataframe thead th {\n",
              "        text-align: right;\n",
              "    }\n",
              "</style>\n",
              "<table border=\"1\" class=\"dataframe\">\n",
              "  <thead>\n",
              "    <tr style=\"text-align: right;\">\n",
              "      <th></th>\n",
              "      <th>CRIM</th>\n",
              "      <th>ZN</th>\n",
              "      <th>INDUS</th>\n",
              "      <th>CHAS</th>\n",
              "      <th>NOX</th>\n",
              "      <th>RM</th>\n",
              "      <th>AGE</th>\n",
              "      <th>DIS</th>\n",
              "      <th>RAD</th>\n",
              "      <th>TAX</th>\n",
              "      <th>PTRATIO</th>\n",
              "      <th>B</th>\n",
              "      <th>LSTAT</th>\n",
              "      <th>price</th>\n",
              "    </tr>\n",
              "  </thead>\n",
              "  <tbody>\n",
              "    <tr>\n",
              "      <th>0</th>\n",
              "      <td>0.00632</td>\n",
              "      <td>18.0</td>\n",
              "      <td>2.31</td>\n",
              "      <td>0.0</td>\n",
              "      <td>0.538</td>\n",
              "      <td>6.575</td>\n",
              "      <td>65.2</td>\n",
              "      <td>4.0900</td>\n",
              "      <td>1.0</td>\n",
              "      <td>296.0</td>\n",
              "      <td>15.3</td>\n",
              "      <td>396.90</td>\n",
              "      <td>4.98</td>\n",
              "      <td>24.0</td>\n",
              "    </tr>\n",
              "    <tr>\n",
              "      <th>1</th>\n",
              "      <td>0.02731</td>\n",
              "      <td>0.0</td>\n",
              "      <td>7.07</td>\n",
              "      <td>0.0</td>\n",
              "      <td>0.469</td>\n",
              "      <td>6.421</td>\n",
              "      <td>78.9</td>\n",
              "      <td>4.9671</td>\n",
              "      <td>2.0</td>\n",
              "      <td>242.0</td>\n",
              "      <td>17.8</td>\n",
              "      <td>396.90</td>\n",
              "      <td>9.14</td>\n",
              "      <td>21.6</td>\n",
              "    </tr>\n",
              "    <tr>\n",
              "      <th>2</th>\n",
              "      <td>0.02729</td>\n",
              "      <td>0.0</td>\n",
              "      <td>7.07</td>\n",
              "      <td>0.0</td>\n",
              "      <td>0.469</td>\n",
              "      <td>7.185</td>\n",
              "      <td>61.1</td>\n",
              "      <td>4.9671</td>\n",
              "      <td>2.0</td>\n",
              "      <td>242.0</td>\n",
              "      <td>17.8</td>\n",
              "      <td>392.83</td>\n",
              "      <td>4.03</td>\n",
              "      <td>34.7</td>\n",
              "    </tr>\n",
              "    <tr>\n",
              "      <th>3</th>\n",
              "      <td>0.03237</td>\n",
              "      <td>0.0</td>\n",
              "      <td>2.18</td>\n",
              "      <td>0.0</td>\n",
              "      <td>0.458</td>\n",
              "      <td>6.998</td>\n",
              "      <td>45.8</td>\n",
              "      <td>6.0622</td>\n",
              "      <td>3.0</td>\n",
              "      <td>222.0</td>\n",
              "      <td>18.7</td>\n",
              "      <td>394.63</td>\n",
              "      <td>2.94</td>\n",
              "      <td>33.4</td>\n",
              "    </tr>\n",
              "    <tr>\n",
              "      <th>4</th>\n",
              "      <td>0.06905</td>\n",
              "      <td>0.0</td>\n",
              "      <td>2.18</td>\n",
              "      <td>0.0</td>\n",
              "      <td>0.458</td>\n",
              "      <td>7.147</td>\n",
              "      <td>54.2</td>\n",
              "      <td>6.0622</td>\n",
              "      <td>3.0</td>\n",
              "      <td>222.0</td>\n",
              "      <td>18.7</td>\n",
              "      <td>396.90</td>\n",
              "      <td>5.33</td>\n",
              "      <td>36.2</td>\n",
              "    </tr>\n",
              "  </tbody>\n",
              "</table>\n",
              "</div>"
            ],
            "text/plain": [
              "      CRIM    ZN  INDUS  CHAS    NOX  ...    TAX  PTRATIO       B  LSTAT  price\n",
              "0  0.00632  18.0   2.31   0.0  0.538  ...  296.0     15.3  396.90   4.98   24.0\n",
              "1  0.02731   0.0   7.07   0.0  0.469  ...  242.0     17.8  396.90   9.14   21.6\n",
              "2  0.02729   0.0   7.07   0.0  0.469  ...  242.0     17.8  392.83   4.03   34.7\n",
              "3  0.03237   0.0   2.18   0.0  0.458  ...  222.0     18.7  394.63   2.94   33.4\n",
              "4  0.06905   0.0   2.18   0.0  0.458  ...  222.0     18.7  396.90   5.33   36.2\n",
              "\n",
              "[5 rows x 14 columns]"
            ]
          },
          "metadata": {
            "tags": []
          },
          "execution_count": 165
        }
      ]
    },
    {
      "cell_type": "code",
      "metadata": {
        "id": "hH9qThAMSmav",
        "colab": {
          "base_uri": "https://localhost:8080/"
        },
        "outputId": "9f48e747-96bb-46af-d2af-0072415530de"
      },
      "source": [
        "# 훈련 데이터와 테스트 데이터 준비\n",
        "from sklearn.model_selection import train_test_split\n",
        "\n",
        "X_train, X_test, y_train, y_test = train_test_split(boston_df.iloc[:,0:-1],boston_df['price'],random_state=0)\n",
        "\n",
        "X_train.shape, X_test.shape, y_train.shape, y_test.shape\n"
      ],
      "execution_count": 175,
      "outputs": [
        {
          "output_type": "execute_result",
          "data": {
            "text/plain": [
              "((379, 13), (127, 13), (379,), (127,))"
            ]
          },
          "metadata": {
            "tags": []
          },
          "execution_count": 175
        }
      ]
    },
    {
      "cell_type": "code",
      "metadata": {
        "id": "HRL2S88VTW3G",
        "colab": {
          "base_uri": "https://localhost:8080/"
        },
        "outputId": "b0505658-3e9a-4ffb-9466-7d693630b100"
      },
      "source": [
        "# 모델 선택과 학습\n",
        "from sklearn.linear_model import LinearRegression\n",
        "\n",
        "model = LinearRegression()\n",
        "model.fit(X_train,y_train)\n",
        "\n",
        "model.score(X_train,y_train), model.score(X_test,y_test)"
      ],
      "execution_count": 181,
      "outputs": [
        {
          "output_type": "execute_result",
          "data": {
            "text/plain": [
              "(0.7697699488741149, 0.635463843320211)"
            ]
          },
          "metadata": {
            "tags": []
          },
          "execution_count": 181
        }
      ]
    },
    {
      "cell_type": "code",
      "metadata": {
        "id": "ID272D3lV_QX",
        "colab": {
          "base_uri": "https://localhost:8080/"
        },
        "outputId": "14aa49a1-78fb-4ce0-89a9-02731660b2d8"
      },
      "source": [
        "# 예측/평가\n",
        "from sklearn.metrics import mean_squared_error, r2_score\n",
        "y_pred = model.predict(X_test)\n",
        "mse = mean_squared_error(y_test,y_pred)\n",
        "mse, np.sqrt(mse) #RMSE"
      ],
      "execution_count": 182,
      "outputs": [
        {
          "output_type": "execute_result",
          "data": {
            "text/plain": [
              "(29.782245092302524, 5.457311159564069)"
            ]
          },
          "metadata": {
            "tags": []
          },
          "execution_count": 182
        }
      ]
    },
    {
      "cell_type": "code",
      "metadata": {
        "id": "HbuM5k3xafz0",
        "colab": {
          "base_uri": "https://localhost:8080/"
        },
        "outputId": "00782207-a8af-46f4-fa0e-9dfc7e8a673f"
      },
      "source": [
        "# 특성(피처)별 회귀 계수 값 순으로 출력\n",
        "X_data = boston_df.iloc[:,:13]\n",
        "coeff = pd.Series(data=np.round(model.coef_, 1), index = X_data.columns)\n",
        "coeff.sort_values(ascending=False)"
      ],
      "execution_count": 186,
      "outputs": [
        {
          "output_type": "execute_result",
          "data": {
            "text/plain": [
              "RM          3.8\n",
              "CHAS        2.4\n",
              "RAD         0.2\n",
              "B           0.0\n",
              "TAX        -0.0\n",
              "AGE        -0.0\n",
              "INDUS      -0.0\n",
              "ZN          0.0\n",
              "CRIM       -0.1\n",
              "LSTAT      -0.5\n",
              "PTRATIO    -1.0\n",
              "DIS        -1.4\n",
              "NOX       -15.6\n",
              "dtype: float64"
            ]
          },
          "metadata": {
            "tags": []
          },
          "execution_count": 186
        }
      ]
    },
    {
      "cell_type": "code",
      "metadata": {
        "id": "TGhB1qdcdBCW",
        "colab": {
          "base_uri": "https://localhost:8080/",
          "height": 445
        },
        "outputId": "8b930024-fdfd-4666-b6f4-40b7d4f81192"
      },
      "source": [
        "# 데이터 조사\n",
        "# 시각화\n",
        "# 2행 4열, axs는 4x2 개의 ax를 갖음\n",
        "fig, axis = plt.subplots(figsize=(16,8),ncols=4,nrows=2)\n",
        "im_features = ['RM','ZN','INDUS','NOX','AGE','PTRATIO','LSTAT','RAD']\n",
        "\n",
        "for i,feature in enumerate(im_features):\n",
        "  row= int(i/4)\n",
        "  col = i % 4\n",
        "  sns.regplot(x=feature, y='price',data=boston_df,ax=axis[row][col])"
      ],
      "execution_count": 192,
      "outputs": [
        {
          "output_type": "display_data",
          "data": {
            "image/png": "[encoded data removed]",
            "text/plain": [
              "<Figure size 1152x576 with 8 Axes>"
            ]
          },
          "metadata": {
            "tags": [],
            "needs_background": "light"
          }
        }
      ]
    },
    {
      "cell_type": "markdown",
      "metadata": {
        "id": "Mx0mlsmui5uu"
      },
      "source": [
        "#### LinearRegression 실습 05\n",
        "\n",
        "유방암 데이터셋에 선형회귀 적용"
      ]
    },
    {
      "cell_type": "code",
      "metadata": {
        "id": "iahc7US0i-9j",
        "colab": {
          "base_uri": "https://localhost:8080/"
        },
        "outputId": "6f01162b-de37-4690-8940-d6515b673b0d"
      },
      "source": [
        "from sklearn.datasets import load_breast_cancer\n",
        "\n",
        "cancer = load_breast_cancer()\n",
        "cancer.keys()"
      ],
      "execution_count": 193,
      "outputs": [
        {
          "output_type": "execute_result",
          "data": {
            "text/plain": [
              "dict_keys(['data', 'target', 'target_names', 'DESCR', 'feature_names', 'filename'])"
            ]
          },
          "metadata": {
            "tags": []
          },
          "execution_count": 193
        }
      ]
    },
    {
      "cell_type": "code",
      "metadata": {
        "id": "u2Gb-0qK7_kp"
      },
      "source": [
        "X_train, X_test, y_train, y_test = train_test_split(cancer.data, cancer.target, random_state = 0)"
      ],
      "execution_count": 194,
      "outputs": []
    },
    {
      "cell_type": "code",
      "metadata": {
        "colab": {
          "base_uri": "https://localhost:8080/"
        },
        "id": "Z95e-WVJ8btr",
        "outputId": "6202a72a-754a-43ea-f755-a16cdd3ade59"
      },
      "source": [
        "model =LinearRegression()\n",
        "model.fit(X_train,y_train)\n",
        "model.score(X_train,y_train), model.score(X_test,y_test)\n"
      ],
      "execution_count": 195,
      "outputs": [
        {
          "output_type": "execute_result",
          "data": {
            "text/plain": [
              "(0.7824123695930644, 0.7291758706114018)"
            ]
          },
          "metadata": {
            "tags": []
          },
          "execution_count": 195
        }
      ]
    },
    {
      "cell_type": "markdown",
      "metadata": {
        "id": "B750N3Vajl4k"
      },
      "source": [
        "#### LinearRegression 실습 06 (과적합 예시)\n",
        "\n",
        "확장 보스턴 집값 셋에 선형회귀 적용"
      ]
    },
    {
      "cell_type": "code",
      "metadata": {
        "id": "XZHI09W-jlXi",
        "colab": {
          "base_uri": "https://localhost:8080/"
        },
        "outputId": "c1d06058-26cc-4bc1-9aee-874a206804a5"
      },
      "source": [
        "import mglearn\n",
        "\n",
        "X, y = mglearn.datasets.load_extended_boston()\n",
        "\n",
        "X_train, X_test, y_train, y_test = train_test_split(X, y, random_state=0)\n",
        "model = LinearRegression()\n",
        "model.fit(X_train, y_train)  # lr_model_extended_boston"
      ],
      "execution_count": 205,
      "outputs": [
        {
          "output_type": "execute_result",
          "data": {
            "text/plain": [
              "LinearRegression(copy_X=True, fit_intercept=True, n_jobs=None, normalize=False)"
            ]
          },
          "metadata": {
            "tags": []
          },
          "execution_count": 205
        }
      ]
    },
    {
      "cell_type": "markdown",
      "metadata": {
        "id": "jgo3UgzhlDJs"
      },
      "source": [
        "- 훈련 셋에 비해 테스트 셋의 경우 정확도가 많이 떨어짐 -> 과대적합"
      ]
    },
    {
      "cell_type": "code",
      "metadata": {
        "colab": {
          "base_uri": "https://localhost:8080/"
        },
        "id": "KUuXxjLVBllT",
        "outputId": "21b1830f-9470-4bec-bb31-c9312bcf2fc7"
      },
      "source": [
        "model.score(X_train,y_train), model.score(X_test,y_test)"
      ],
      "execution_count": 204,
      "outputs": [
        {
          "output_type": "execute_result",
          "data": {
            "text/plain": [
              "(0.9520519609032727, 0.607472195966557)"
            ]
          },
          "metadata": {
            "tags": []
          },
          "execution_count": 204
        }
      ]
    },
    {
      "cell_type": "markdown",
      "metadata": {
        "id": "xBawxC6-lGjf"
      },
      "source": [
        "#### LinearRegression 실습 07\n",
        "\n",
        "붓꽃 데이터 셋에 선형회귀 적용"
      ]
    },
    {
      "cell_type": "code",
      "metadata": {
        "id": "NtpSWJwNlNPm"
      },
      "source": [
        "from sklearn.datasets import load_iris\n",
        "\n",
        "iris = load_iris()\n",
        "\n",
        "#sepal 꽃밭침\n",
        "#petal 꽃잎"
      ],
      "execution_count": 209,
      "outputs": []
    },
    {
      "cell_type": "markdown",
      "metadata": {
        "id": "4zmqaNIRlS_J"
      },
      "source": [
        "꽃받침 길이와 꽂잎 길이를 이용한 선형회귀"
      ]
    },
    {
      "cell_type": "code",
      "metadata": {
        "id": "zQTrmJK4lUvN",
        "colab": {
          "base_uri": "https://localhost:8080/"
        },
        "outputId": "6e6f8a95-690a-4257-ea82-7fc7cf15af9e"
      },
      "source": [
        "X_all = iris.data\n",
        "X = X_all[:,0]  # 꽃받침 길이\n",
        "y = X_all[:,2]  # 꽃잎 길이\n",
        "iris.feature_names"
      ],
      "execution_count": 210,
      "outputs": [
        {
          "output_type": "execute_result",
          "data": {
            "text/plain": [
              "['sepal length (cm)',\n",
              " 'sepal width (cm)',\n",
              " 'petal length (cm)',\n",
              " 'petal width (cm)']"
            ]
          },
          "metadata": {
            "tags": []
          },
          "execution_count": 210
        }
      ]
    },
    {
      "cell_type": "code",
      "metadata": {
        "id": "SnXzlTRXlXVr",
        "colab": {
          "base_uri": "https://localhost:8080/"
        },
        "outputId": "6549862b-40d5-400b-e283-8c91ec0b0bd2"
      },
      "source": [
        "from sklearn.model_selection import train_test_split\n",
        "\n",
        "X_train, X_test, y_train, y_test = train_test_split(X.reshape(-1,1),\n",
        "                                                    y,\n",
        "                                                    random_state=0)\n",
        "X_train.shape"
      ],
      "execution_count": 215,
      "outputs": [
        {
          "output_type": "execute_result",
          "data": {
            "text/plain": [
              "(112, 1)"
            ]
          },
          "metadata": {
            "tags": []
          },
          "execution_count": 215
        }
      ]
    },
    {
      "cell_type": "code",
      "metadata": {
        "id": "qDtadHL5lqdB",
        "colab": {
          "base_uri": "https://localhost:8080/",
          "height": 283
        },
        "outputId": "42061624-7581-4930-b2df-c099ebfc8bcd"
      },
      "source": [
        "%matplotlib inline\n",
        "import matplotlib.pyplot as plt\n",
        "\n",
        "#두 가지 특성을 시각화 \n",
        "plt.scatter(X_train,y_train)"
      ],
      "execution_count": 216,
      "outputs": [
        {
          "output_type": "execute_result",
          "data": {
            "text/plain": [
              "<matplotlib.collections.PathCollection at 0x7fb966e46710>"
            ]
          },
          "metadata": {
            "tags": []
          },
          "execution_count": 216
        },
        {
          "output_type": "display_data",
          "data": {
            "image/png": "[encoded data removed]",
            "text/plain": [
              "<Figure size 432x288 with 1 Axes>"
            ]
          },
          "metadata": {
            "tags": [],
            "needs_background": "light"
          }
        }
      ]
    },
    {
      "cell_type": "code",
      "metadata": {
        "id": "qD2CJpBMl0m-",
        "colab": {
          "base_uri": "https://localhost:8080/"
        },
        "outputId": "3e7d44df-98c6-472d-f895-e6d26ba4bbc1"
      },
      "source": [
        "from sklearn.linear_model import LinearRegression\n",
        "\n",
        "model = LinearRegression()\n",
        "model.fit(X_train,y_train)\n",
        "\n",
        "model.score(X_train,y_train), model.score(X_test,y_test)"
      ],
      "execution_count": 218,
      "outputs": [
        {
          "output_type": "execute_result",
          "data": {
            "text/plain": [
              "(0.7864459990171911, 0.6634802872219325)"
            ]
          },
          "metadata": {
            "tags": []
          },
          "execution_count": 218
        }
      ]
    },
    {
      "cell_type": "code",
      "metadata": {
        "id": "vmQ3-Dvil4ug",
        "colab": {
          "base_uri": "https://localhost:8080/"
        },
        "outputId": "58fed215-4247-4df2-f1c4-8d9405d346d1"
      },
      "source": [
        "# 계수(가중치)와 절편\n",
        "model.coef_, model.intercept_"
      ],
      "execution_count": 219,
      "outputs": [
        {
          "output_type": "execute_result",
          "data": {
            "text/plain": [
              "(array([1.83273771]), -6.99217830038047)"
            ]
          },
          "metadata": {
            "tags": []
          },
          "execution_count": 219
        }
      ]
    },
    {
      "cell_type": "code",
      "metadata": {
        "id": "iALHX2KPl6Vu",
        "colab": {
          "base_uri": "https://localhost:8080/",
          "height": 286
        },
        "outputId": "28b8247b-cc61-4bab-d7a6-58fffa91ddf7"
      },
      "source": [
        "import numpy as np\n",
        "plt.scatter(X_train,y_train)\n",
        "\n",
        "xx=np.linspace(4,8,200)\n",
        "plt.scatter(x=xx,y=[model.coef_* xx + model.intercept_],marker = '.')"
      ],
      "execution_count": 222,
      "outputs": [
        {
          "output_type": "execute_result",
          "data": {
            "text/plain": [
              "<matplotlib.collections.PathCollection at 0x7fb966cb7fd0>"
            ]
          },
          "metadata": {
            "tags": []
          },
          "execution_count": 222
        },
        {
          "output_type": "display_data",
          "data": {
            "image/png": "[encoded data removed]",
            "text/plain": [
              "<Figure size 432x288 with 1 Axes>"
            ]
          },
          "metadata": {
            "tags": [],
            "needs_background": "light"
          }
        }
      ]
    },
    {
      "cell_type": "markdown",
      "metadata": {
        "id": "gJmspcqamCaP"
      },
      "source": [
        "꽃잎 길이와 꽂잎 너비를 이용한 선형회귀"
      ]
    },
    {
      "cell_type": "code",
      "metadata": {
        "id": "iLuEOW1emXKP"
      },
      "source": [
        "# 꽃잎 길이\n",
        "# 꽃잎 너비\n",
        "iris.feature_names\n",
        "XX = iris.data[:,2]\n",
        "yy = iris.data[:,3]"
      ],
      "execution_count": 224,
      "outputs": []
    },
    {
      "cell_type": "code",
      "metadata": {
        "id": "LsBDp9D7mZxB"
      },
      "source": [
        "X_train2, X_test2, y_train2, y_test2 = train_test_split(XX.reshape(-1,1),yy,random_state=0)"
      ],
      "execution_count": 230,
      "outputs": []
    },
    {
      "cell_type": "code",
      "metadata": {
        "id": "ATn4dokRmd7J",
        "colab": {
          "base_uri": "https://localhost:8080/",
          "height": 283
        },
        "outputId": "98a1cdec-9790-414a-9adc-95d4942dd850"
      },
      "source": [
        "#두 가지 특성을 시각화\n",
        "plt.scatter(XX,yy)"
      ],
      "execution_count": 231,
      "outputs": [
        {
          "output_type": "execute_result",
          "data": {
            "text/plain": [
              "<matplotlib.collections.PathCollection at 0x7fb966b91790>"
            ]
          },
          "metadata": {
            "tags": []
          },
          "execution_count": 231
        },
        {
          "output_type": "display_data",
          "data": {
            "image/png": "[encoded data removed]",
            "text/plain": [
              "<Figure size 432x288 with 1 Axes>"
            ]
          },
          "metadata": {
            "tags": [],
            "needs_background": "light"
          }
        }
      ]
    },
    {
      "cell_type": "code",
      "metadata": {
        "id": "IbdMp3hWmfVH",
        "colab": {
          "base_uri": "https://localhost:8080/"
        },
        "outputId": "e69d2344-fd26-4321-964a-c4f7d8917bb1"
      },
      "source": [
        "# model2 \n",
        "model= LinearRegression()\n",
        "model.fit(X_train2,y_train2)\n",
        "model.coef_, model.intercept_"
      ],
      "execution_count": 232,
      "outputs": [
        {
          "output_type": "execute_result",
          "data": {
            "text/plain": [
              "(array([0.4198152]), -0.3705841202176685)"
            ]
          },
          "metadata": {
            "tags": []
          },
          "execution_count": 232
        }
      ]
    },
    {
      "cell_type": "code",
      "metadata": {
        "id": "1M-6tAX_mgpI",
        "colab": {
          "base_uri": "https://localhost:8080/",
          "height": 283
        },
        "outputId": "e5740980-8c8f-403b-f5f0-1e4bd1f8450d"
      },
      "source": [
        "# plt\n",
        "xx = np.linspace(0,8,200)\n",
        "plt.scatter(XX,yy)\n",
        "plt.scatter(xx,[model.coef_*xx +model.intercept_])"
      ],
      "execution_count": 234,
      "outputs": [
        {
          "output_type": "execute_result",
          "data": {
            "text/plain": [
              "<matplotlib.collections.PathCollection at 0x7fb966aa1d10>"
            ]
          },
          "metadata": {
            "tags": []
          },
          "execution_count": 234
        },
        {
          "output_type": "display_data",
          "data": {
            "image/png": "[encoded data removed]",
            "text/plain": [
              "<Figure size 432x288 with 1 Axes>"
            ]
          },
          "metadata": {
            "tags": [],
            "needs_background": "light"
          }
        }
      ]
    },
    {
      "cell_type": "code",
      "metadata": {
        "id": "oz9BAMzlmlHJ",
        "colab": {
          "base_uri": "https://localhost:8080/"
        },
        "outputId": "6f5cdc43-c20b-4e98-eea0-6d46334f243d"
      },
      "source": [
        "# 테스트 셋을 사용한 평가\n",
        "model.score(X_train2,y_train2),model.score(X_test2,y_test2)"
      ],
      "execution_count": 237,
      "outputs": [
        {
          "output_type": "execute_result",
          "data": {
            "text/plain": [
              "(0.9358824215964661, 0.8931453922584154)"
            ]
          },
          "metadata": {
            "tags": []
          },
          "execution_count": 237
        }
      ]
    },
    {
      "cell_type": "code",
      "metadata": {
        "id": "Sf0B7kHOmqFc",
        "colab": {
          "base_uri": "https://localhost:8080/"
        },
        "outputId": "99dff5df-5892-4a7c-9f3f-026db6e8837d"
      },
      "source": [
        "# score\n",
        "model.predict(X_test2)"
      ],
      "execution_count": 238,
      "outputs": [
        {
          "output_type": "execute_result",
          "data": {
            "text/plain": [
              "array([1.77047338, 1.30867666, 0.21715715, 2.27425162, 0.25913867,\n",
              "       2.14830706, 0.17517563, 1.6025473 , 1.64452882, 1.30867666,\n",
              "       1.98038098, 1.51858426, 1.6025473 , 1.56056578, 1.6025473 ,\n",
              "       0.21715715, 1.51858426, 1.47660274, 0.21715715, 0.17517563,\n",
              "       1.68651034, 1.51858426, 0.42706475, 0.21715715, 1.64452882,\n",
              "       0.04923108, 0.42706475, 1.43462122, 1.01480603, 0.30112019,\n",
              "       1.93839946, 1.51858426, 0.25913867, 1.68651034, 1.98038098,\n",
              "       1.26669515, 0.34310171, 1.77047338])"
            ]
          },
          "metadata": {
            "tags": []
          },
          "execution_count": 238
        }
      ]
    },
    {
      "cell_type": "markdown",
      "metadata": {
        "id": "rRVAtuhqQ5AF"
      },
      "source": [
        "장단점\n",
        "\n",
        "- k-NN에 비해 더 제약이 있는 것처럼 보이지만 특성이 많은 데이터셋의 경우에는 우수한 성능을 낼 수 있다.\n",
        "- 모델의 복잡도를 제어할 방법이 없어 과대적합 되기 쉽다.\n"
      ]
    },
    {
      "cell_type": "markdown",
      "metadata": {
        "id": "YqmSlQlSQwI8"
      },
      "source": [
        "모델 정규화(Regularization, 규제)을 통해 과대적합을 제어"
      ]
    }
  ]
}