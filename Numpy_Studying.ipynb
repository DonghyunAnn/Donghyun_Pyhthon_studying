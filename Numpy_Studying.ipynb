{
 "cells": [
  {
   "cell_type": "markdown",
   "metadata": {},
   "source": []
  },
  {
   "cell_type": "raw",
   "metadata": {},
   "source": [
    "# Numpy Studying\n",
    "* Numerical Python의 약자\n",
    "* 고성능 과학 계산용 패키지로 강력한 N차원 배열 객체\n",
    "* 범용적 데이터 처리에 사용 가능한 다차원 컨테이너\n",
    "* 정교한 브로드캐스팅 가능\n",
    "* 파이썬의 자료형 list와 비슷, 더 빠르고 메모리를 효율적으로 관리\n",
    "* 반복문 없이 데이터 배열에 대한 처리를 지원\n",
    "* 데이터 과학 도구에 대한 생태계의 핵심"
   ]
  },
  {
   "cell_type": "code",
   "execution_count": 3,
   "metadata": {},
   "outputs": [
    {
     "data": {
      "text/plain": [
       "'1.19.2'"
      ]
     },
     "execution_count": 3,
     "metadata": {},
     "output_type": "execute_result"
    }
   ],
   "source": [
    "import numpy as np\n",
    "np.__version__"
   ]
  },
  {
   "cell_type": "markdown",
   "metadata": {},
   "source": [
    "## 배열 생성\n",
    "### 리스트로 배열 만들기"
   ]
  },
  {
   "cell_type": "code",
   "execution_count": 21,
   "metadata": {},
   "outputs": [
    {
     "name": "stdout",
     "output_type": "stream",
     "text": [
      "[1 2 3 4 5]\n",
      "<class 'numpy.ndarray'>\n",
      "(5,)\n",
      "1 2 3 4 5\n"
     ]
    }
   ],
   "source": [
    "# 1차원\n",
    "a1= np.array([1,2,3,4,5])\n",
    "print(a1)\n",
    "print(type(a1))\n",
    "print(a1.shape)\n",
    "print(a1[0],a1[1],a1[2],a1[3],a1[4])"
   ]
  },
  {
   "cell_type": "code",
   "execution_count": 138,
   "metadata": {},
   "outputs": [
    {
     "name": "stdout",
     "output_type": "stream",
     "text": [
      "[[1 2 3]\n",
      " [4 5 6]\n",
      " [7 8 9]]\n",
      "(3, 3)\n",
      "1 5 9\n"
     ]
    }
   ],
   "source": [
    "# 2차원\n",
    "a2=np.array([[1,2,3],[4,5,6],[7,8,9]])\n",
    "print(a2)\n",
    "print(a2.shape)\n",
    "print(a2[0,0],a2[1,1],a2[2,2])"
   ]
  },
  {
   "cell_type": "code",
   "execution_count": 23,
   "metadata": {},
   "outputs": [
    {
     "name": "stdout",
     "output_type": "stream",
     "text": [
      "[[[1 2 3]\n",
      "  [4 5 6]\n",
      "  [7 8 9]]\n",
      "\n",
      " [[1 2 3]\n",
      "  [4 5 6]\n",
      "  [7 8 9]]\n",
      "\n",
      " [[1 2 3]\n",
      "  [4 5 6]\n",
      "  [7 8 9]]]\n",
      "(3, 3, 3)\n"
     ]
    }
   ],
   "source": [
    "# 3차원\n",
    "a3=np.array([[[1,2,3],[4,5,6],[7,8,9]],\n",
    "             [[1,2,3],[4,5,6],[7,8,9]],\n",
    "             [[1,2,3],[4,5,6],[7,8,9]]])\n",
    "print(a3)\n",
    "print(a3.shape)"
   ]
  },
  {
   "cell_type": "markdown",
   "metadata": {},
   "source": [
    "### 배열 생성 및 초기화"
   ]
  },
  {
   "cell_type": "code",
   "execution_count": 25,
   "metadata": {},
   "outputs": [
    {
     "data": {
      "text/plain": [
       "array([[1., 1., 1.],\n",
       "       [1., 1., 1.],\n",
       "       [1., 1., 1.]])"
      ]
     },
     "execution_count": 25,
     "metadata": {},
     "output_type": "execute_result"
    }
   ],
   "source": [
    "# ones(): 모든요소를 1로 초기화\n",
    "np.ones((3,3))"
   ]
  },
  {
   "cell_type": "code",
   "execution_count": 27,
   "metadata": {},
   "outputs": [
    {
     "data": {
      "text/plain": [
       "array([[2.54, 2.54, 2.54],\n",
       "       [2.54, 2.54, 2.54],\n",
       "       [2.54, 2.54, 2.54]])"
      ]
     },
     "execution_count": 27,
     "metadata": {},
     "output_type": "execute_result"
    }
   ],
   "source": [
    "# full(): 모든 요소를 지정한 값으로 초기화\n",
    "np.full((3,3),2.54)"
   ]
  },
  {
   "cell_type": "code",
   "execution_count": 29,
   "metadata": {},
   "outputs": [
    {
     "data": {
      "text/plain": [
       "array([[1., 0., 0.],\n",
       "       [0., 1., 0.],\n",
       "       [0., 0., 1.]])"
      ]
     },
     "execution_count": 29,
     "metadata": {},
     "output_type": "execute_result"
    }
   ],
   "source": [
    "# eye(): 단위행렬 생성\n",
    "np.eye(3)"
   ]
  },
  {
   "cell_type": "code",
   "execution_count": 30,
   "metadata": {},
   "outputs": [
    {
     "data": {
      "text/plain": [
       "array([[1., 0., 0.],\n",
       "       [1., 1., 0.],\n",
       "       [1., 1., 1.]])"
      ]
     },
     "execution_count": 30,
     "metadata": {},
     "output_type": "execute_result"
    }
   ],
   "source": [
    "# tri(): 삼각행렬 생성\n",
    "np.tri(3)"
   ]
  },
  {
   "cell_type": "code",
   "execution_count": 34,
   "metadata": {},
   "outputs": [
    {
     "data": {
      "text/plain": [
       "array([-1.66157655e+036, -5.22037102e-053,  4.65187659e-308,\n",
       "       -2.73699648e-048, -3.81152633e-032, -1.20950425e-009,\n",
       "       -1.72229181e+036, -9.84906284e-058, -1.57234264e-063,\n",
       "        0.00000000e+000])"
      ]
     },
     "execution_count": 34,
     "metadata": {},
     "output_type": "execute_result"
    }
   ],
   "source": [
    "#empty(): 초기화되지 않은 배열 생성 그래서 빠름\n",
    "np.empty(10)"
   ]
  },
  {
   "cell_type": "code",
   "execution_count": 41,
   "metadata": {},
   "outputs": [
    {
     "name": "stdout",
     "output_type": "stream",
     "text": [
      "[1 2 3 4 5]\n",
      "[0 0 0 0 0]\n",
      "[[1 2 3]\n",
      " [4 5 6]\n",
      " [7 8 9]]\n",
      "[[1 1 1]\n",
      " [1 1 1]\n",
      " [1 1 1]]\n",
      "[[[1 2 3]\n",
      "  [4 5 6]\n",
      "  [7 8 9]]\n",
      "\n",
      " [[1 2 3]\n",
      "  [4 5 6]\n",
      "  [7 8 9]]\n",
      "\n",
      " [[1 2 3]\n",
      "  [4 5 6]\n",
      "  [7 8 9]]]\n",
      "[[[10 10 10]\n",
      "  [10 10 10]\n",
      "  [10 10 10]]\n",
      "\n",
      " [[10 10 10]\n",
      "  [10 10 10]\n",
      "  [10 10 10]]\n",
      "\n",
      " [[10 10 10]\n",
      "  [10 10 10]\n",
      "  [10 10 10]]]\n"
     ]
    }
   ],
   "source": [
    "#_like: 지정된 배열과 같은 shpae의 행렬 생성\n",
    "print(a1)\n",
    "print(np.zeros_like(a1))\n",
    "print(a2)\n",
    "print(np.ones_like(a2))\n",
    "print(a3)\n",
    "print(np.full_like(a3,10))"
   ]
  },
  {
   "cell_type": "markdown",
   "metadata": {},
   "source": [
    "### 생성한 값으로 배열 생성"
   ]
  },
  {
   "cell_type": "code",
   "execution_count": 43,
   "metadata": {},
   "outputs": [
    {
     "data": {
      "text/plain": [
       "array([ 0,  2,  4,  6,  8, 10, 12, 14, 16, 18, 20, 22, 24, 26, 28])"
      ]
     },
     "execution_count": 43,
     "metadata": {},
     "output_type": "execute_result"
    }
   ],
   "source": [
    "#arange: 정수 범위로 배열 생성\n",
    "np.arange(0,30,2)"
   ]
  },
  {
   "cell_type": "code",
   "execution_count": 45,
   "metadata": {},
   "outputs": [
    {
     "data": {
      "text/plain": [
       "array([0.  , 0.25, 0.5 , 0.75, 1.  ])"
      ]
     },
     "execution_count": 45,
     "metadata": {},
     "output_type": "execute_result"
    }
   ],
   "source": [
    "#linspace: 범위 내에서 균등 간격의 배열 생성\n",
    "np.linspace(0,1,5)"
   ]
  },
  {
   "cell_type": "code",
   "execution_count": 46,
   "metadata": {},
   "outputs": [
    {
     "data": {
      "text/plain": [
       "array([ 1.25892541,  1.40400425,  1.565802  ,  1.74624535,  1.94748304,\n",
       "        2.1719114 ,  2.42220294,  2.70133812,  3.0126409 ,  3.35981829,\n",
       "        3.74700446,  4.17881006,  4.66037703,  5.19743987,  5.79639395,\n",
       "        6.46437163,  7.2093272 ,  8.04013161,  8.9666781 , 10.        ])"
      ]
     },
     "execution_count": 46,
     "metadata": {},
     "output_type": "execute_result"
    }
   ],
   "source": [
    "#logspace(): 범위 내에서 균등 간격으로 로그 스케일로 배열 생성\n",
    "np.logspace(0.1,1,20)"
   ]
  },
  {
   "cell_type": "markdown",
   "metadata": {},
   "source": [
    "### 랜덤값으로 배열 생성\n",
    "* seed(): 난수 발생을 위한 시드 지정\n",
    "* permutation(): 순서를 임의로 바꾸거나 임의의 순열 반환\n",
    "* shuffle(): 리스트나 배열의 순서를 뒤섞음 \n",
    "* binomial(): 이항분포에서 표본 추출\n",
    "* beta(): 베타분포에서 표본 추출\n",
    "* chisquare(): 카 서 표본 추출\n",
    "* uniform(): 균등(0,1)분포에서 표본 추출"
   ]
  },
  {
   "cell_type": "code",
   "execution_count": 47,
   "metadata": {},
   "outputs": [
    {
     "data": {
      "text/plain": [
       "array([[0.94410585, 0.56895274, 0.36806323],\n",
       "       [0.59683566, 0.60497405, 0.74448084],\n",
       "       [0.43426664, 0.98800274, 0.62777297]])"
      ]
     },
     "execution_count": 47,
     "metadata": {},
     "output_type": "execute_result"
    }
   ],
   "source": [
    "#random.random(): 랜덤한 수의 배열 생성\n",
    "np.random.random((3,3))"
   ]
  },
  {
   "cell_type": "code",
   "execution_count": 255,
   "metadata": {},
   "outputs": [
    {
     "data": {
      "text/plain": [
       "array([[5, 2, 3],\n",
       "       [6, 1, 4],\n",
       "       [3, 1, 4]])"
      ]
     },
     "execution_count": 255,
     "metadata": {},
     "output_type": "execute_result"
    }
   ],
   "source": [
    "#random.randint(): 주어진 최소 최대 범위의 난수 추출\n",
    "np.random.randint(0,10,(3,3)) "
   ]
  },
  {
   "cell_type": "code",
   "execution_count": 54,
   "metadata": {},
   "outputs": [
    {
     "data": {
      "text/plain": [
       "array([[ 1.43018797,  0.94971126,  0.65692046],\n",
       "       [ 0.22203428,  0.59829059, -1.75037385],\n",
       "       [ 0.13330585, -1.31520994, -0.9374954 ]])"
      ]
     },
     "execution_count": 54,
     "metadata": {},
     "output_type": "execute_result"
    }
   ],
   "source": [
    "#random.normal(평균, 표준편차, 배열): 정규분포에서 표본 추출\n",
    "np.random.normal(0,1,(3,3))"
   ]
  },
  {
   "cell_type": "code",
   "execution_count": 55,
   "metadata": {},
   "outputs": [
    {
     "data": {
      "text/plain": [
       "array([[0.58138896, 0.47918994, 0.38641911],\n",
       "       [0.44046495, 0.40475733, 0.44225404],\n",
       "       [0.03012328, 0.77600531, 0.55095838]])"
      ]
     },
     "execution_count": 55,
     "metadata": {},
     "output_type": "execute_result"
    }
   ],
   "source": [
    "#random.rand(): 균등분포에서 표본 추출\n",
    "np.random.rand(3,3)"
   ]
  },
  {
   "cell_type": "code",
   "execution_count": 58,
   "metadata": {
    "scrolled": true
   },
   "outputs": [
    {
     "data": {
      "text/plain": [
       "array([[ 0.68000189,  0.71660582,  0.47770485],\n",
       "       [-0.66623993,  0.08448008, -0.33876049],\n",
       "       [ 0.70592118, -1.6017614 ,  0.39324807]])"
      ]
     },
     "execution_count": 58,
     "metadata": {},
     "output_type": "execute_result"
    }
   ],
   "source": [
    "#random.randn(): 표준정규분포를 고려한 랜덤한 수의 배열 생성\n",
    "np.random.randn(3,3)"
   ]
  },
  {
   "cell_type": "markdown",
   "metadata": {},
   "source": [
    "### 표준 데이터 타입\n",
    "* bool: 바이트로 저장된 boolean\n",
    "* int_: 기본 정수(integer) 타입\n",
    "* uint_:부호 없는 정수\n",
    "* float_: 실수\n",
    "* complex: 복소수"
   ]
  },
  {
   "cell_type": "code",
   "execution_count": 66,
   "metadata": {},
   "outputs": [
    {
     "data": {
      "text/plain": [
       "array([0, 0, 0, 0, 0, 0, 0, 0, 0, 0, 0, 0, 0, 0, 0, 0, 0, 0, 0, 0])"
      ]
     },
     "execution_count": 66,
     "metadata": {},
     "output_type": "execute_result"
    }
   ],
   "source": [
    "np.zeros(20,dtype=int)"
   ]
  },
  {
   "cell_type": "code",
   "execution_count": 67,
   "metadata": {},
   "outputs": [
    {
     "data": {
      "text/plain": [
       "array([[ True,  True,  True],\n",
       "       [ True,  True,  True],\n",
       "       [ True,  True,  True]])"
      ]
     },
     "execution_count": 67,
     "metadata": {},
     "output_type": "execute_result"
    }
   ],
   "source": [
    "np.ones((3,3),dtype=bool)"
   ]
  },
  {
   "cell_type": "code",
   "execution_count": null,
   "metadata": {},
   "outputs": [],
   "source": []
  },
  {
   "cell_type": "code",
   "execution_count": null,
   "metadata": {},
   "outputs": [],
   "source": []
  },
  {
   "cell_type": "code",
   "execution_count": 68,
   "metadata": {},
   "outputs": [
    {
     "data": {
      "text/plain": [
       "array([[2.54, 2.54, 2.54],\n",
       "       [2.54, 2.54, 2.54],\n",
       "       [2.54, 2.54, 2.54]])"
      ]
     },
     "execution_count": 68,
     "metadata": {},
     "output_type": "execute_result"
    }
   ],
   "source": [
    "np.full((3,3),2.54,dtype=float)"
   ]
  },
  {
   "cell_type": "markdown",
   "metadata": {},
   "source": [
    "### 날짜/시간 배열 생성\n",
    "* Y:연\n",
    "* M:월\n",
    "* W:주\n",
    "* D:일\n",
    "* y:시\n",
    "* m:분\n",
    "* s:초\n",
    "* ms:밀리초\n",
    "* us:마이크로초\n",
    "* ns:나노초"
   ]
  },
  {
   "cell_type": "code",
   "execution_count": 79,
   "metadata": {},
   "outputs": [
    {
     "data": {
      "text/plain": [
       "array('2020-01-01', dtype='datetime64[D]')"
      ]
     },
     "execution_count": 79,
     "metadata": {},
     "output_type": "execute_result"
    }
   ],
   "source": [
    "date = np.array('2020-01-01',dtype=np.datetime64)\n",
    "date"
   ]
  },
  {
   "cell_type": "code",
   "execution_count": 80,
   "metadata": {},
   "outputs": [
    {
     "data": {
      "text/plain": [
       "array(['2020-01-01', '2020-01-02', '2020-01-03', '2020-01-04',\n",
       "       '2020-01-05', '2020-01-06', '2020-01-07', '2020-01-08',\n",
       "       '2020-01-09', '2020-01-10', '2020-01-11', '2020-01-12'],\n",
       "      dtype='datetime64[D]')"
      ]
     },
     "execution_count": 80,
     "metadata": {},
     "output_type": "execute_result"
    }
   ],
   "source": [
    "date+np.arange(12)"
   ]
  },
  {
   "cell_type": "code",
   "execution_count": 81,
   "metadata": {},
   "outputs": [
    {
     "data": {
      "text/plain": [
       "numpy.datetime64('2020-06-01T12:00')"
      ]
     },
     "execution_count": 81,
     "metadata": {},
     "output_type": "execute_result"
    }
   ],
   "source": [
    "datetime=np.datetime64('2020-06-01 12:00')\n",
    "datetime"
   ]
  },
  {
   "cell_type": "code",
   "execution_count": 82,
   "metadata": {},
   "outputs": [
    {
     "data": {
      "text/plain": [
       "numpy.datetime64('2020-06-01T12:00:12.340000000')"
      ]
     },
     "execution_count": 82,
     "metadata": {},
     "output_type": "execute_result"
    }
   ],
   "source": [
    "datetime=np.datetime64('2020-06-01 12:00:12.34','ns')\n",
    "datetime"
   ]
  },
  {
   "cell_type": "markdown",
   "metadata": {},
   "source": [
    "## 배열 조회\n",
    "### 배열 속성 정보\n",
    "* strides: 다음으로 넘어가기 위한 바이트(큰단위,작은단위,작은단위,...)"
   ]
  },
  {
   "cell_type": "code",
   "execution_count": 88,
   "metadata": {},
   "outputs": [],
   "source": [
    "def array_info(array):\n",
    "    print(array)\n",
    "    print(\"ndim: \", array.ndim)\n",
    "    print(\"shape: \", array.shape)\n",
    "    print(\"dtype: \", array.dtype)\n",
    "    print(\"size: \", array.size)\n",
    "    print(\"itemsize: \", array.itemsize)\n",
    "    print(\"nbytes: \", array.nbytes)\n",
    "    print(\"strides: \", array.strides)"
   ]
  },
  {
   "cell_type": "code",
   "execution_count": 89,
   "metadata": {},
   "outputs": [
    {
     "name": "stdout",
     "output_type": "stream",
     "text": [
      "[1 2 3 4 5]\n",
      "ndim:  1\n",
      "shape:  (5,)\n",
      "dtype:  int32\n",
      "size:  5\n",
      "itemsize:  4\n",
      "nbytes:  20\n",
      "strides:  (4,)\n"
     ]
    }
   ],
   "source": [
    "array_info(a1)"
   ]
  },
  {
   "cell_type": "code",
   "execution_count": 90,
   "metadata": {},
   "outputs": [
    {
     "name": "stdout",
     "output_type": "stream",
     "text": [
      "[[1 2 3]\n",
      " [4 5 6]\n",
      " [7 8 9]]\n",
      "ndim:  2\n",
      "shape:  (3, 3)\n",
      "dtype:  int32\n",
      "size:  9\n",
      "itemsize:  4\n",
      "nbytes:  36\n",
      "strides:  (12, 4)\n"
     ]
    }
   ],
   "source": [
    "array_info(a2)"
   ]
  },
  {
   "cell_type": "code",
   "execution_count": 91,
   "metadata": {},
   "outputs": [
    {
     "name": "stdout",
     "output_type": "stream",
     "text": [
      "[[[1 2 3]\n",
      "  [4 5 6]\n",
      "  [7 8 9]]\n",
      "\n",
      " [[1 2 3]\n",
      "  [4 5 6]\n",
      "  [7 8 9]]\n",
      "\n",
      " [[1 2 3]\n",
      "  [4 5 6]\n",
      "  [7 8 9]]]\n",
      "ndim:  3\n",
      "shape:  (3, 3, 3)\n",
      "dtype:  int32\n",
      "size:  27\n",
      "itemsize:  4\n",
      "nbytes:  108\n",
      "strides:  (36, 12, 4)\n"
     ]
    }
   ],
   "source": [
    "  array_info(a3)"
   ]
  },
  {
   "cell_type": "markdown",
   "metadata": {},
   "source": [
    "### 인덱싱(Indexing)"
   ]
  },
  {
   "cell_type": "code",
   "execution_count": 95,
   "metadata": {
    "scrolled": true
   },
   "outputs": [
    {
     "name": "stdout",
     "output_type": "stream",
     "text": [
      "[1 2 3 4 5]\n",
      "1\n",
      "3\n",
      "5\n",
      "4\n"
     ]
    }
   ],
   "source": [
    "print(a1)\n",
    "print(a1[0])\n",
    "print(a1[2])\n",
    "print(a1[-1])\n",
    "print(a1[-2])"
   ]
  },
  {
   "cell_type": "code",
   "execution_count": 96,
   "metadata": {},
   "outputs": [
    {
     "name": "stdout",
     "output_type": "stream",
     "text": [
      "[[1 2 3]\n",
      " [4 5 6]\n",
      " [7 8 9]]\n",
      "1\n",
      "3\n",
      "5\n",
      "9\n"
     ]
    }
   ],
   "source": [
    "print(a2)\n",
    "print(a2[0,0])\n",
    "print(a2[0,2])\n",
    "print(a2[1,1])\n",
    "print(a2[2,-1])"
   ]
  },
  {
   "cell_type": "code",
   "execution_count": 97,
   "metadata": {},
   "outputs": [
    {
     "name": "stdout",
     "output_type": "stream",
     "text": [
      "[[[1 2 3]\n",
      "  [4 5 6]\n",
      "  [7 8 9]]\n",
      "\n",
      " [[1 2 3]\n",
      "  [4 5 6]\n",
      "  [7 8 9]]\n",
      "\n",
      " [[1 2 3]\n",
      "  [4 5 6]\n",
      "  [7 8 9]]]\n",
      "1\n",
      "5\n",
      "9\n",
      "9\n"
     ]
    }
   ],
   "source": [
    "print(a3)\n",
    "print(a3[0,0,0])\n",
    "print(a3[1,1,1])\n",
    "print(a3[2,2,2])\n",
    "print(a3[2,-1,-1])"
   ]
  },
  {
   "cell_type": "code",
   "execution_count": null,
   "metadata": {},
   "outputs": [],
   "source": []
  },
  {
   "cell_type": "code",
   "execution_count": 95,
   "metadata": {},
   "outputs": [
    {
     "name": "stdout",
     "output_type": "stream",
     "text": [
      "[1 2 3 4 5]\n",
      "1\n",
      "3\n",
      "5\n",
      "4\n"
     ]
    }
   ],
   "source": [
    "print(a1)\n",
    "print(a1[0])\n",
    "print(a1[2])\n",
    "print(a1[-1])\n",
    "print(a1[-2])"
   ]
  },
  {
   "cell_type": "markdown",
   "metadata": {},
   "source": [
    "### 슬라이싱(Slicing)\n",
    "* 슬라이싱 구문: a[start:stop:step]\n",
    "* 기본값: start=0, stop=ndim, step=1"
   ]
  },
  {
   "cell_type": "code",
   "execution_count": 103,
   "metadata": {},
   "outputs": [
    {
     "name": "stdout",
     "output_type": "stream",
     "text": [
      "[1 2 3 4 5]\n",
      "[1 2]\n",
      "[1 2 3 4 5]\n",
      "[1]\n",
      "[1 3 5]\n",
      "[5 4 3 2 1]\n"
     ]
    }
   ],
   "source": [
    "print(a1)\n",
    "print(a1[0:2])\n",
    "print(a1[0:])\n",
    "print(a1[:1])\n",
    "print(a1[::2])\n",
    "print(a1[::-1])"
   ]
  },
  {
   "cell_type": "code",
   "execution_count": 105,
   "metadata": {
    "scrolled": true
   },
   "outputs": [
    {
     "name": "stdout",
     "output_type": "stream",
     "text": [
      "[[1 2 3]\n",
      " [4 5 6]\n",
      " [7 8 9]]\n",
      "[4 5 6]\n",
      "[4 5 6]\n",
      "[[1 2]\n",
      " [4 5]]\n",
      "[[6 5 4]\n",
      " [9 8 7]]\n",
      "[[9 8 7]\n",
      " [6 5 4]\n",
      " [3 2 1]]\n"
     ]
    }
   ],
   "source": [
    "print(a2)\n",
    "print(a2[1])\n",
    "print(a2[1,:])\n",
    "print(a2[:2,:2])\n",
    "print(a2[1:,::-1])\n",
    "print(a2[::-1,::-1])"
   ]
  },
  {
   "cell_type": "markdown",
   "metadata": {},
   "source": [
    "### 불리언 인덱싱(Boolean Indexing)\n",
    "* 배열 각 요소의 선택 여부를 Boolean으로 지정\n",
    "* True 값인 인덱스의 값만 조회"
   ]
  },
  {
   "cell_type": "code",
   "execution_count": 109,
   "metadata": {},
   "outputs": [
    {
     "name": "stdout",
     "output_type": "stream",
     "text": [
      "[1 2 3 4 5]\n",
      "[2 3 5]\n"
     ]
    }
   ],
   "source": [
    "print(a1)\n",
    "bi=[False,True,True,False,True]\n",
    "print(a1[bi])"
   ]
  },
  {
   "cell_type": "code",
   "execution_count": 114,
   "metadata": {},
   "outputs": [
    {
     "name": "stdout",
     "output_type": "stream",
     "text": [
      "[[1 2 3]\n",
      " [4 5 6]\n",
      " [7 8 9]]\n",
      "[[ True False  True]\n",
      " [ True False  True]\n",
      " [False  True  True]]\n",
      "[1 3 4 6 8 9]\n"
     ]
    }
   ],
   "source": [
    "print(a2)\n",
    "bi=np.random.randint(0,2,(3,3),dtype=bool)\n",
    "print(bi)\n",
    "print(a2[bi])"
   ]
  },
  {
   "cell_type": "markdown",
   "metadata": {},
   "source": [
    "### 팬시 인덱싱(Fancy Indexing)\n",
    "* 인덱스 형식에 맞는 형식으로 값을 참조하여 출력함"
   ]
  },
  {
   "cell_type": "code",
   "execution_count": 118,
   "metadata": {
    "scrolled": true
   },
   "outputs": [
    {
     "name": "stdout",
     "output_type": "stream",
     "text": [
      "[1 2 3 4 5]\n",
      "[1, 3]\n",
      "[1 3]\n",
      "[[1 2]\n",
      " [3 1]]\n"
     ]
    }
   ],
   "source": [
    "print(a1)\n",
    "print([a1[0],a1[2]])\n",
    "ind = [0,2]\n",
    "print(a1[ind])\n",
    "ind=np.array([[0,1],[2,0]])\n",
    "print(a1[ind])\n"
   ]
  },
  {
   "cell_type": "code",
   "execution_count": 121,
   "metadata": {},
   "outputs": [
    {
     "name": "stdout",
     "output_type": "stream",
     "text": [
      "[[1 2 3]\n",
      " [4 5 6]\n",
      " [7 8 9]]\n",
      "[2 9]\n"
     ]
    }
   ],
   "source": [
    "print(a2)\n",
    "row=np.array([0,2])\n",
    "col=np.array([1,2])\n",
    "print(a2[row,col]) "
   ]
  },
  {
   "cell_type": "markdown",
   "metadata": {},
   "source": [
    "## 배열 값 삽입/수정/삭제/복사\n",
    "### 배열값 삽입\n",
    "* insert(): 배열의 특정 위치에 값 삽입\n",
    "* axis를 지정하지 않으면 1차원배열로 변환\n",
    "* 추가할 방향을 axis로 지정\n",
    "* 원본 배열 변경없이 새로운 배열 반환\n",
    "* axis는 행렬 표기를 기반으로 계산 하면 됨  \n",
    "    -(5,3,2)모양의 행렬이 있다면 0은 5(행 간에) 1은 3(열 간에) 2는 2(깊이간)"
   ]
  },
  {
   "cell_type": "code",
   "execution_count": 124,
   "metadata": {},
   "outputs": [
    {
     "name": "stdout",
     "output_type": "stream",
     "text": [
      "[1 2 3 4 5]\n",
      "[10  1  2  3  4  5]\n",
      "[ 1  2 10  3  4  5]\n"
     ]
    }
   ],
   "source": [
    "print(a1)\n",
    "b1 = np.insert(a1,0,10)\n",
    "print(b1)\n",
    "c1 = np.insert(a1,2,10)\n",
    "print(c1)"
   ]
  },
  {
   "cell_type": "code",
   "execution_count": 127,
   "metadata": {},
   "outputs": [
    {
     "name": "stdout",
     "output_type": "stream",
     "text": [
      "[[1 2 3]\n",
      " [4 5 6]\n",
      " [7 8 9]]\n",
      "[[ 1  2  3]\n",
      " [10 10 10]\n",
      " [ 4  5  6]\n",
      " [ 7  8  9]]\n",
      "[[ 1 10  2  3]\n",
      " [ 4 10  5  6]\n",
      " [ 7 10  8  9]]\n"
     ]
    }
   ],
   "source": [
    "print(a2)\n",
    "b2=np.insert(a2,1,10,axis=0)\n",
    "print(b2)\n",
    "c2=np.insert(a2,1,10,axis=1)\n",
    "print(c2)"
   ]
  },
  {
   "cell_type": "markdown",
   "metadata": {},
   "source": [
    "### 배열 값 수정\n",
    "* 배열의 인덱싱으로 접근하여 값 수정"
   ]
  },
  {
   "cell_type": "code",
   "execution_count": 131,
   "metadata": {},
   "outputs": [
    {
     "name": "stdout",
     "output_type": "stream",
     "text": [
      "[9 4 3 4 4]\n",
      "[5 4 3 4 4]\n",
      "[9 4 3 4 4]\n",
      "[9 0 3 0 0]\n",
      "[9 4 3 4 4]\n"
     ]
    }
   ],
   "source": [
    "print(a1)\n",
    "a1[0]=5\n",
    "a1[1]=4\n",
    "print(a1)\n",
    "a1[:1]=9\n",
    "print(a1)\n",
    "i=np.array([1,3,4])\n",
    "a1[i]=0\n",
    "print(a1)\n",
    "a1[i]+=4\n",
    "print(a1)"
   ]
  },
  {
   "cell_type": "code",
   "execution_count": 145,
   "metadata": {},
   "outputs": [
    {
     "name": "stdout",
     "output_type": "stream",
     "text": [
      "[[1 0 1]\n",
      " [4 2 0]\n",
      " [7 8 9]]\n",
      "[[1 0 1]\n",
      " [4 2 0]\n",
      " [7 8 3]]\n",
      "[[1 1 1]\n",
      " [4 2 0]\n",
      " [7 8 3]]\n",
      "[[1 1 1]\n",
      " [4 2 9]\n",
      " [7 8 9]]\n",
      "[[1 0 1]\n",
      " [4 2 0]\n",
      " [7 8 9]]\n"
     ]
    }
   ],
   "source": [
    "print(a2)\n",
    "a2[1,1]=2\n",
    "a2[2,2]=3\n",
    "print(a2)\n",
    "a2[0]=1\n",
    "print(a2)\n",
    "a2[1:,2]=9\n",
    "print(a2)\n",
    "row=np.array([0,1])\n",
    "col=np.array([1,2])\n",
    "a2[row,col]= 0\n",
    "print(a2)"
   ]
  },
  {
   "cell_type": "markdown",
   "metadata": {},
   "source": [
    "### 배열 값 삭제\n",
    "* delete(): 배열의 특정 위치에 값 삭제\n",
    "* axis를 지정하지 않으면 1차열 배열로 변환\n",
    "* 삭제할 방향을 axis로 지정\n",
    "* 원본 배열 변경없이 새로운 배열 반환"
   ]
  },
  {
   "cell_type": "code",
   "execution_count": 147,
   "metadata": {},
   "outputs": [
    {
     "name": "stdout",
     "output_type": "stream",
     "text": [
      "[9 4 3 4 4]\n",
      "[9 3 4 4]\n"
     ]
    }
   ],
   "source": [
    "print(a1)\n",
    "b1=np.delete(a1,1)\n",
    "print(b1)"
   ]
  },
  {
   "cell_type": "code",
   "execution_count": 150,
   "metadata": {},
   "outputs": [
    {
     "name": "stdout",
     "output_type": "stream",
     "text": [
      "[[1 0 1]\n",
      " [4 2 0]\n",
      " [7 8 9]]\n",
      "[[1 0 1]\n",
      " [7 8 9]]\n",
      "[[1 1]\n",
      " [4 0]\n",
      " [7 9]]\n"
     ]
    }
   ],
   "source": [
    "print(a2)\n",
    "b2=np.delete(a2,1,axis=0)\n",
    "print(b2)\n",
    "c2=np.delete(a2,1,axis=1)\n",
    "print(c2)"
   ]
  },
  {
   "cell_type": "markdown",
   "metadata": {},
   "source": [
    "### 배열 복사\n",
    "* 리스트 자료형과 달리 배열의 슬라이스는 복사본이 아님\n",
    "* 원본 배열을 가져와서 조치를 취하는 것이기 때문에 바꾸면 원본이 달라짐"
   ]
  },
  {
   "cell_type": "code",
   "execution_count": 155,
   "metadata": {},
   "outputs": [
    {
     "name": "stdout",
     "output_type": "stream",
     "text": [
      "[[1 0 1]\n",
      " [4 0 0]\n",
      " [7 8 9]]\n",
      "[[1 0]\n",
      " [4 0]]\n",
      "[[1 0]\n",
      " [4 0]]\n",
      "[[1 0]\n",
      " [4 0]]\n",
      "[[1 0 1]\n",
      " [4 0 0]\n",
      " [7 8 9]]\n"
     ]
    }
   ],
   "source": [
    "print(a2)\n",
    "print(a2[:2,:2])\n",
    "a2_sub = a2[:2,:2]\n",
    "print(a2_sub)\n",
    "a2_sub[:,1]=0\n",
    "print(a2_sub)\n",
    "print(a2)"
   ]
  },
  {
   "cell_type": "markdown",
   "metadata": {},
   "source": [
    "* copy(): 배열이나 하위 배열 내의 값을 명시적을 복사"
   ]
  },
  {
   "cell_type": "code",
   "execution_count": 161,
   "metadata": {},
   "outputs": [
    {
     "name": "stdout",
     "output_type": "stream",
     "text": [
      "[[1 0 1]\n",
      " [4 0 0]\n",
      " [7 8 9]]\n",
      "[[1 0]\n",
      " [4 0]]\n",
      "[[1 1]\n",
      " [4 1]]\n",
      "[[1 0 1]\n",
      " [4 0 0]\n",
      " [7 8 9]]\n"
     ]
    }
   ],
   "source": [
    "print(a2)\n",
    "a2_sub_copy = a2[:2,:2].copy()\n",
    "print(a2_sub_copy)\n",
    "a2_sub_copy[:,1]=1\n",
    "print(a2_sub_copy)\n",
    "print(a2)"
   ]
  },
  {
   "cell_type": "markdown",
   "metadata": {},
   "source": [
    "## 배열 변환\n",
    "### 배열 전치 및 축 변경"
   ]
  },
  {
   "cell_type": "code",
   "execution_count": 166,
   "metadata": {},
   "outputs": [
    {
     "name": "stdout",
     "output_type": "stream",
     "text": [
      "[[1 0 1]\n",
      " [4 0 0]\n",
      " [7 8 9]]\n",
      "[[1 4 7]\n",
      " [0 0 8]\n",
      " [1 0 9]]\n",
      "[[[1 2 3]\n",
      "  [4 5 6]\n",
      "  [7 8 9]]\n",
      "\n",
      " [[1 2 3]\n",
      "  [4 5 6]\n",
      "  [7 8 9]]\n",
      "\n",
      " [[1 2 3]\n",
      "  [4 5 6]\n",
      "  [7 8 9]]]\n",
      "[[[1 1 1]\n",
      "  [4 4 4]\n",
      "  [7 7 7]]\n",
      "\n",
      " [[2 2 2]\n",
      "  [5 5 5]\n",
      "  [8 8 8]]\n",
      "\n",
      " [[3 3 3]\n",
      "  [6 6 6]\n",
      "  [9 9 9]]]\n"
     ]
    }
   ],
   "source": [
    "print(a2)\n",
    "print(a2.T)\n",
    "print(a3)\n",
    "print(a3.T)"
   ]
  },
  {
   "cell_type": "code",
   "execution_count": 169,
   "metadata": {},
   "outputs": [
    {
     "name": "stdout",
     "output_type": "stream",
     "text": [
      "[[1 0 1]\n",
      " [4 0 0]\n",
      " [7 8 9]]\n",
      "[[1 4 7]\n",
      " [0 0 8]\n",
      " [1 0 9]]\n"
     ]
    }
   ],
   "source": [
    "print(a2)\n",
    "print(a2.swapaxes(1,0))"
   ]
  },
  {
   "cell_type": "code",
   "execution_count": 171,
   "metadata": {},
   "outputs": [
    {
     "name": "stdout",
     "output_type": "stream",
     "text": [
      "[[[1 2 3]\n",
      "  [4 5 6]\n",
      "  [7 8 9]]\n",
      "\n",
      " [[1 2 3]\n",
      "  [4 5 6]\n",
      "  [7 8 9]]\n",
      "\n",
      " [[1 2 3]\n",
      "  [4 5 6]\n",
      "  [7 8 9]]]\n",
      "[[[1 2 3]\n",
      "  [1 2 3]\n",
      "  [1 2 3]]\n",
      "\n",
      " [[4 5 6]\n",
      "  [4 5 6]\n",
      "  [4 5 6]]\n",
      "\n",
      " [[7 8 9]\n",
      "  [7 8 9]\n",
      "  [7 8 9]]]\n",
      "[[[1 4 7]\n",
      "  [2 5 8]\n",
      "  [3 6 9]]\n",
      "\n",
      " [[1 4 7]\n",
      "  [2 5 8]\n",
      "  [3 6 9]]\n",
      "\n",
      " [[1 4 7]\n",
      "  [2 5 8]\n",
      "  [3 6 9]]]\n"
     ]
    }
   ],
   "source": [
    "print(a3)\n",
    "print(a3.swapaxes(0,1))\n",
    "print(a3.swapaxes(1,2))"
   ]
  },
  {
   "cell_type": "markdown",
   "metadata": {},
   "source": [
    "### 배열의 재구조화\n",
    "* reshape(): 배열의 형상을 변경"
   ]
  },
  {
   "cell_type": "code",
   "execution_count": 173,
   "metadata": {},
   "outputs": [
    {
     "name": "stdout",
     "output_type": "stream",
     "text": [
      "[1 2 3 4 5 6 7 8 9]\n",
      "[[1 2 3]\n",
      " [4 5 6]\n",
      " [7 8 9]]\n"
     ]
    }
   ],
   "source": [
    "n1=np.arange(1,10)\n",
    "print(n1)\n",
    "print(n1.reshape(3,3))"
   ]
  },
  {
   "cell_type": "markdown",
   "metadata": {},
   "source": [
    "* np.newaxis(): 새로운 축 추가"
   ]
  },
  {
   "cell_type": "code",
   "execution_count": 176,
   "metadata": {},
   "outputs": [
    {
     "name": "stdout",
     "output_type": "stream",
     "text": [
      "[1 2 3 4 5 6 7 8 9]\n",
      "[[1 2 3 4 5]]\n",
      "[[1]\n",
      " [2]\n",
      " [3]\n",
      " [4]\n",
      " [5]]\n"
     ]
    }
   ],
   "source": [
    "print(n1)\n",
    "print(n1[np.newaxis,:5])\n",
    "print(n1[:5,np.newaxis])\n",
    "#행으로 축을 추가하느냐 열로 축을 추가하느냐"
   ]
  },
  {
   "cell_type": "markdown",
   "metadata": {},
   "source": [
    "### 배열 크기 변경\n",
    "* resize((배열모양)): 배열 모양만 변경  \n",
    "    - 배열의 크기 증가시 남은 공간은 0으로 채워짐  \n",
    "    - 배열의 크기 감소도 가능한데 값이 있는 부분이 축소 될 경우 삭제됨\n"
   ]
  },
  {
   "cell_type": "code",
   "execution_count": 198,
   "metadata": {},
   "outputs": [
    {
     "name": "stdout",
     "output_type": "stream",
     "text": [
      "[[4 8 6 5 0]\n",
      " [0 5 1 3 2]]\n",
      "[[4 8]\n",
      " [6 5]\n",
      " [0 0]\n",
      " [5 1]\n",
      " [3 2]]\n",
      "[[4 8 6 5 0]\n",
      " [0 5 1 3 2]\n",
      " [0 0 0 0 0]\n",
      " [0 0 0 0 0]\n",
      " [0 0 0 0 0]]\n"
     ]
    }
   ],
   "source": [
    "n2=np.random.randint(0,10,(2,5))\n",
    "print(n2)\n",
    "n2.resize((5,2))\n",
    "print(n2)"
   ]
  },
  {
   "cell_type": "code",
   "execution_count": 196,
   "metadata": {},
   "outputs": [
    {
     "name": "stdout",
     "output_type": "stream",
     "text": [
      "[[2 5 1 1 0]\n",
      " [3 6 7 3 0]\n",
      " [0 0 0 0 0]\n",
      " [0 0 0 0 0]\n",
      " [0 0 0 0 0]]\n"
     ]
    }
   ],
   "source": [
    "n2.resize((5,5))\n",
    "print(n2)"
   ]
  },
  {
   "cell_type": "code",
   "execution_count": 197,
   "metadata": {},
   "outputs": [
    {
     "name": "stdout",
     "output_type": "stream",
     "text": [
      "[[2 5 1]\n",
      " [1 0 3]\n",
      " [6 7 3]]\n"
     ]
    }
   ],
   "source": [
    "n2.resize((3,3))\n",
    "print(n2)"
   ]
  },
  {
   "cell_type": "markdown",
   "metadata": {},
   "source": [
    "### 배열추가\n",
    "* append(): 배열의 끝에 값 추가\n",
    "    * axis지정이 없으면 1차원 배열 형태로 변형되어 결합됨"
   ]
  },
  {
   "cell_type": "code",
   "execution_count": 201,
   "metadata": {},
   "outputs": [
    {
     "name": "stdout",
     "output_type": "stream",
     "text": [
      "[[1 2 3]\n",
      " [4 5 6]\n",
      " [7 8 9]]\n",
      "[[10 11 12]\n",
      " [13 14 15]\n",
      " [16 17 18]]\n"
     ]
    }
   ],
   "source": [
    "a2=np.arange(1,10).reshape(3,3)\n",
    "print(a2)\n",
    "b2=np.arange(10,19).reshape(3,3)\n",
    "print(b2)"
   ]
  },
  {
   "cell_type": "code",
   "execution_count": 202,
   "metadata": {},
   "outputs": [
    {
     "name": "stdout",
     "output_type": "stream",
     "text": [
      "[[ 1  2  3]\n",
      " [ 4  5  6]\n",
      " [ 7  8  9]\n",
      " [10 11 12]\n",
      " [13 14 15]\n",
      " [16 17 18]]\n"
     ]
    }
   ],
   "source": [
    "c2=np.append(a2,b2,axis=0)\n",
    "print(c2)"
   ]
  },
  {
   "cell_type": "code",
   "execution_count": 204,
   "metadata": {},
   "outputs": [
    {
     "name": "stdout",
     "output_type": "stream",
     "text": [
      "[[ 1  2  3 10 11 12]\n",
      " [ 4  5  6 13 14 15]\n",
      " [ 7  8  9 16 17 18]]\n"
     ]
    }
   ],
   "source": [
    "c2=np.append(a2,b2,axis=1)\n",
    "print(c2)"
   ]
  },
  {
   "cell_type": "markdown",
   "metadata": {},
   "source": [
    "### 배열 연결\n",
    "* concatenate():튜플이나 배열의 리스트를 인수로 사용해 배열 연결"
   ]
  },
  {
   "cell_type": "code",
   "execution_count": 206,
   "metadata": {},
   "outputs": [
    {
     "data": {
      "text/plain": [
       "array([1, 3, 5, 2, 4, 6])"
      ]
     },
     "execution_count": 206,
     "metadata": {},
     "output_type": "execute_result"
    }
   ],
   "source": [
    "a1= np.array([1,3,5])\n",
    "b1= np.array([2,4,6])\n",
    "np.concatenate([a1,b1]) "
   ]
  },
  {
   "cell_type": "code",
   "execution_count": 209,
   "metadata": {},
   "outputs": [
    {
     "data": {
      "text/plain": [
       "array([[1, 2, 3],\n",
       "       [4, 5, 6],\n",
       "       [1, 2, 3],\n",
       "       [4, 5, 6]])"
      ]
     },
     "execution_count": 209,
     "metadata": {},
     "output_type": "execute_result"
    }
   ],
   "source": [
    "a2=np.array([[1,2,3],\n",
    "             [4,5,6]])\n",
    "np.concatenate([a2,a2])"
   ]
  },
  {
   "cell_type": "code",
   "execution_count": 210,
   "metadata": {},
   "outputs": [
    {
     "data": {
      "text/plain": [
       "array([[1, 2, 3, 1, 2, 3],\n",
       "       [4, 5, 6, 4, 5, 6]])"
      ]
     },
     "execution_count": 210,
     "metadata": {},
     "output_type": "execute_result"
    }
   ],
   "source": [
    "a2=np.array([[1,2,3],\n",
    "             [4,5,6]])\n",
    "np.concatenate([a2,a2],axis=1)"
   ]
  },
  {
   "cell_type": "markdown",
   "metadata": {},
   "source": [
    "* vstack(): 수직스택\n",
    "* hstack(): 수평스택\n",
    "* dstack(): 깊이스택\n",
    "* stack(): 새로운 차원으로 연결"
   ]
  },
  {
   "cell_type": "code",
   "execution_count": 215,
   "metadata": {},
   "outputs": [
    {
     "name": "stdout",
     "output_type": "stream",
     "text": [
      "[[1 2 3]\n",
      " [4 5 6]\n",
      " [1 2 3]\n",
      " [4 5 6]]\n",
      "[[1 2 3 1 2 3]\n",
      " [4 5 6 4 5 6]]\n",
      "[[[1 1]\n",
      "  [2 2]\n",
      "  [3 3]]\n",
      "\n",
      " [[4 4]\n",
      "  [5 5]\n",
      "  [6 6]]]\n",
      "[[[1 2 3]\n",
      "  [4 5 6]]\n",
      "\n",
      " [[1 2 3]\n",
      "  [4 5 6]]]\n"
     ]
    }
   ],
   "source": [
    "print(np.vstack([a2,a2]))\n",
    "print(np.hstack([a2,a2]))\n",
    "print(np.dstack([a2,a2]))\n",
    "print(np.stack([a2,a2]))"
   ]
  },
  {
   "cell_type": "markdown",
   "metadata": {},
   "source": [
    "### 배열 분할\n",
    "* split(분할할 배열, [자를인덱스]): 배열분할"
   ]
  },
  {
   "cell_type": "code",
   "execution_count": 226,
   "metadata": {},
   "outputs": [
    {
     "name": "stdout",
     "output_type": "stream",
     "text": [
      "[0 1 2 3 4 5 6 7 8 9]\n",
      "[0 1 2 3 4] [5 6 7 8 9]\n",
      "[0 1] [2 3] [4 5] [6 7] [8 9]\n"
     ]
    }
   ],
   "source": [
    "a1=np.arange(0,10)\n",
    "print(a1)\n",
    "b1, c1 = np.split(a1,[5])\n",
    "print(b1,c1)\n",
    "b1, c1, d1,e1,f1=np.split(a1,[2,4,6,8])\n",
    "print(b1,c1,d1,e1,f1)"
   ]
  },
  {
   "cell_type": "markdown",
   "metadata": {},
   "source": [
    "* vsplit(): 수직 분할, 1차원으로 분할"
   ]
  },
  {
   "cell_type": "code",
   "execution_count": 234,
   "metadata": {},
   "outputs": [
    {
     "name": "stdout",
     "output_type": "stream",
     "text": [
      "[[1 2 3]\n",
      " [4 5 6]\n",
      " [7 8 9]]\n",
      "[[1 2 3]\n",
      " [4 5 6]]\n",
      "[[7 8 9]]\n"
     ]
    }
   ],
   "source": [
    "a2= np.arange(1,10).reshape(3,3)\n",
    "print(a2)\n",
    "b2,c2=np.vsplit(a2,[2])\n",
    "print(b2)\n",
    "print(c2)"
   ]
  },
  {
   "cell_type": "markdown",
   "metadata": {},
   "source": [
    "* hsplit():수평분할,3차원으로 분할"
   ]
  },
  {
   "cell_type": "code",
   "execution_count": 232,
   "metadata": {},
   "outputs": [
    {
     "name": "stdout",
     "output_type": "stream",
     "text": [
      "[[1 2 3]\n",
      " [4 5 6]\n",
      " [7 8 9]]\n",
      "[[1 2]\n",
      " [4 5]\n",
      " [7 8]]\n",
      "[[3]\n",
      " [6]\n",
      " [9]]\n"
     ]
    }
   ],
   "source": [
    "a2= np.arange(1,10).reshape(3,3)\n",
    "print(a2)\n",
    "b2,c2=np.hsplit(a2,[2])\n",
    "print(b2)\n",
    "print(c2)"
   ]
  },
  {
   "cell_type": "markdown",
   "metadata": {},
   "source": [
    "* dsplit():수직분할,3차원으로 분할"
   ]
  },
  {
   "cell_type": "code",
   "execution_count": 235,
   "metadata": {},
   "outputs": [
    {
     "name": "stdout",
     "output_type": "stream",
     "text": [
      "[[[ 1  2  3]\n",
      "  [ 4  5  6]\n",
      "  [ 7  8  9]]\n",
      "\n",
      " [[10 11 12]\n",
      "  [13 14 15]\n",
      "  [16 17 18]]\n",
      "\n",
      " [[19 20 21]\n",
      "  [22 23 24]\n",
      "  [25 26 27]]]\n",
      "[[[ 1  2  3]\n",
      "  [ 4  5  6]]\n",
      "\n",
      " [[10 11 12]\n",
      "  [13 14 15]]\n",
      "\n",
      " [[19 20 21]\n",
      "  [22 23 24]]]\n",
      "[[[ 7  8  9]]\n",
      "\n",
      " [[16 17 18]]\n",
      "\n",
      " [[25 26 27]]]\n"
     ]
    }
   ],
   "source": [
    "a3= np.arange(1,28).reshape(3,3,3)\n",
    "print(a3)\n",
    "b3,c3=np.hsplit(a3,[2])\n",
    "print(b3)\n",
    "print(c3)"
   ]
  },
  {
   "cell_type": "markdown",
   "metadata": {},
   "source": [
    "## 배열 연산\n",
    "    * Numpy의 배열연산은 백터화(vectorized)연산 사용\n",
    "    * 일반적으로 NUmpy의 병용함수(universal function)를 통해 구현\n",
    "    * 배열 요소에 대한 반복적인 계산을 효율적으로 수행\n",
    "### 브로드캐스팅(Broadcasting)\n",
    "    *계산할 경우 저차원이 고차원을 따라가서 계산을 하게 됨"
   ]
  },
  {
   "cell_type": "code",
   "execution_count": 239,
   "metadata": {},
   "outputs": [
    {
     "name": "stdout",
     "output_type": "stream",
     "text": [
      "[1 2 3]\n",
      "[6 7 8]\n",
      "[[1 2 3]\n",
      " [4 5 6]\n",
      " [7 8 9]]\n",
      "[[ 2  4  6]\n",
      " [ 5  7  9]\n",
      " [ 8 10 12]]\n",
      "[[1]\n",
      " [2]\n",
      " [3]]\n",
      "[[2 3 4]\n",
      " [3 4 5]\n",
      " [4 5 6]]\n"
     ]
    }
   ],
   "source": [
    "a1=np.array([1,2,3])\n",
    "print(a1)\n",
    "print(a1+5)\n",
    "\n",
    "a2=np.arange(1,10).reshape(3,3)\n",
    "print(a2)\n",
    "print(a1+a2)\n",
    "\n",
    "b2=np.array([1,2,3]).reshape(3,1)\n",
    "print(b2)\n",
    "print(a1+b2)"
   ]
  },
  {
   "cell_type": "markdown",
   "metadata": {},
   "source": [
    "### 산술연산\n",
    "* np.add\n",
    "* np.subtract\n",
    "* np.negative\n",
    "* np.multiply\n",
    "* np.divide\n",
    "* np.floor_divide:나눗셈 내림\n",
    "* np.power: 지수 연산\n",
    "* np.mod: 나머지 연산"
   ]
  },
  {
   "cell_type": "code",
   "execution_count": 251,
   "metadata": {},
   "outputs": [
    {
     "name": "stdout",
     "output_type": "stream",
     "text": [
      "[1 2 3 4 5 6 7 8 9]\n",
      "[ 2  3  4  5  6  7  8  9 10]\n",
      "[11 12 13 14 15 16 17 18 19]\n",
      "[0 1 2 3 4 5 6 7 8]\n",
      "[-9 -8 -7 -6 -5 -4 -3 -2 -1]\n",
      "[-1 -2 -3 -4 -5 -6 -7 -8 -9]\n",
      "[-1 -2 -3 -4 -5 -6 -7 -8 -9]\n",
      "[ 2  4  6  8 10 12 14 16 18]\n",
      "[ 2  4  6  8 10 12 14 16 18]\n",
      "[0.5 1.  1.5 2.  2.5 3.  3.5 4.  4.5]\n",
      "[0.5 1.  1.5 2.  2.5 3.  3.5 4.  4.5]\n",
      "[0 1 1 2 2 3 3 4 4]\n",
      "[0 1 1 2 2 3 3 4 4]\n",
      "[ 1  4  9 16 25 36 49 64 81]\n",
      "[ 1  4  9 16 25 36 49 64 81]\n",
      "[1 0 1 0 1 0 1 0 1]\n",
      "[1 0 1 0 1 0 1 0 1]\n"
     ]
    }
   ],
   "source": [
    "a1=np.arange(1,10)\n",
    "print(a1)\n",
    "print(a1 +1)\n",
    "print(np.add(a1,10))\n",
    "print(a1 -1)\n",
    "print(np.subtract(a1,10))\n",
    "print(-a1)\n",
    "print(np.negative(a1))\n",
    "print(a1*2)\n",
    "print(np.multiply(a1,2))\n",
    "print(a1/2)\n",
    "print(np.divide(a1,2))\n",
    "print(a1//2)\n",
    "print(np.floor_divide(a1,2))\n",
    "print(a1**2)\n",
    "print(np.power(a1,2))\n",
    "print(a1%2)\n",
    "print(np.mod(a1,2))"
   ]
  },
  {
   "cell_type": "code",
   "execution_count": 261,
   "metadata": {},
   "outputs": [
    {
     "name": "stdout",
     "output_type": "stream",
     "text": [
      "[[1 2 3]\n",
      " [4 5 6]\n",
      " [7 8 9]]\n",
      "[[8 8 5]\n",
      " [2 2 9]\n",
      " [8 9 9]]\n",
      "[[ 9 10  8]\n",
      " [ 6  7 15]\n",
      " [15 17 18]]\n",
      "[[ 8 16 15]\n",
      " [ 8 10 54]\n",
      " [56 72 81]]\n"
     ]
    }
   ],
   "source": [
    "a2=np.arange(1,10).reshape(3,3)\n",
    "print(a2)\n",
    "b2=np.random.randint(1,10,(3,3))\n",
    "print(b2)\n",
    "print(a2+b2)\n",
    "print(a2*b2) #행렬 연산은 아님"
   ]
  },
  {
   "cell_type": "markdown",
   "metadata": {},
   "source": [
    "#### 절대값 함수\n",
    "* absolute(),abs(): 내장된 절대값 함수"
   ]
  },
  {
   "cell_type": "code",
   "execution_count": 266,
   "metadata": {},
   "outputs": [
    {
     "name": "stdout",
     "output_type": "stream",
     "text": [
      "[ 5  9 -7 -5  0]\n",
      "[5 9 7 5 0]\n",
      "[5 9 7 5 0]\n"
     ]
    }
   ],
   "source": [
    "a1= np.random.randint(-10,10,size=5)\n",
    "print(a1)\n",
    "print(np.absolute(a1))\n",
    "print(np.abs(a1))"
   ]
  },
  {
   "cell_type": "markdown",
   "metadata": {},
   "source": [
    "#### 제곱/제곱근 함수\n",
    "* square, sqrt : 제곱, 제곱근 함수"
   ]
  },
  {
   "cell_type": "code",
   "execution_count": 268,
   "metadata": {},
   "outputs": [
    {
     "name": "stdout",
     "output_type": "stream",
     "text": [
      "[ 5  9 -7 -5  0]\n",
      "[25 81 49 25  0]\n",
      "[2.23606798 3.                nan        nan 0.        ]\n"
     ]
    },
    {
     "name": "stderr",
     "output_type": "stream",
     "text": [
      "<ipython-input-268-4e034cb7ea92>:3: RuntimeWarning: invalid value encountered in sqrt\n",
      "  print(np.sqrt(a1))\n"
     ]
    }
   ],
   "source": [
    "print(a1)\n",
    "print(np.square(a1))\n",
    "print(np.sqrt(a1))"
   ]
  },
  {
   "cell_type": "markdown",
   "metadata": {},
   "source": [
    "#### 지수와 로그 함수(Exponential and Log)"
   ]
  },
  {
   "cell_type": "code",
   "execution_count": 273,
   "metadata": {},
   "outputs": [
    {
     "name": "stdout",
     "output_type": "stream",
     "text": [
      "[1 3 2 7 1]\n",
      "[   2.71828183   20.08553692    7.3890561  1096.63315843    2.71828183]\n",
      "[  2.   8.   4. 128.   2.]\n",
      "[ 1  9  4 49  1]\n"
     ]
    }
   ],
   "source": [
    "a1=np.random.randint(1,10,size=5)\n",
    "print(a1)\n",
    "print(np.exp(a1))\n",
    "print(np.exp2(a1)) # calculate 2**a1\n",
    "print(np.power(a1,2))"
   ]
  },
  {
   "cell_type": "code",
   "execution_count": 275,
   "metadata": {},
   "outputs": [
    {
     "name": "stdout",
     "output_type": "stream",
     "text": [
      "[1 3 2 7 1]\n",
      "[0.         1.09861229 0.69314718 1.94591015 0.        ]\n",
      "[0.         1.5849625  1.         2.80735492 0.        ]\n",
      "[0.         0.47712125 0.30103    0.84509804 0.        ]\n"
     ]
    }
   ],
   "source": [
    "print(a1)\n",
    "print(np.log(a1))\n",
    "print(np.log2(a1))\n",
    "print(np.log10(a1))"
   ]
  },
  {
   "cell_type": "markdown",
   "metadata": {},
   "source": [
    "#### 삼각함수\n",
    "* np.sin(array)\n",
    "* np.arcsin(array)\n",
    "* np.sinh(array)\n",
    "* np.arcsinh(array) \n",
    "* np.deg2rad(array): 각도에서 라디안 변화\n",
    "* np.rad2deg(array): 라디안에서 각도 변화\n",
    "* np.hypol(array1,array2): 요소 별 유클리드 거리 계산"
   ]
  },
  {
   "cell_type": "code",
   "execution_count": 282,
   "metadata": {
    "scrolled": true
   },
   "outputs": [
    {
     "name": "stdout",
     "output_type": "stream",
     "text": [
      "[0.         1.57079633 3.14159265]\n",
      "[0.0000000e+00 1.0000000e+00 1.2246468e-16]\n"
     ]
    }
   ],
   "source": [
    "t=np.linspace(0,np.pi,3)\n",
    "print(t)\n",
    "print(np.sin(t))"
   ]
  },
  {
   "cell_type": "markdown",
   "metadata": {},
   "source": [
    "### 집계함수 (nan이 써져 있는 경우 결측치 포함 계산)\n",
    "* np.sum/ np.nansum\n",
    "* np.cumsum / nan\n",
    "* np.diff / nan: 차분=다른 값이 되기 위한 어떤 값\n",
    "* np.prod / nan\n",
    "* np.cumprod / nan\n",
    "* np.dot: 점곱\n",
    "* np.matmul: 행렬곱\n",
    "* np.tensordot: 텐서곱\n",
    "* np.cross: 벡터곱\n",
    "* np.inner: 내적\n",
    "* np.outer: 외적\n",
    "* np.mean / nan\n",
    "* np.std / nan\n",
    "* np.var / nan\n",
    "* np.min / nan\n",
    "* np.max / nan\n",
    "* np.argmin / nan: 최소값 인덱스\n",
    "* np.argmax / nan: 최대값 인덱스\n",
    "* np.median / nan\n",
    "* np.percentile / nan:백분위 수 계산\n",
    "* np.any: 요소 중 참이 있는지\n",
    "* np.all: 모든 요소가 참인지"
   ]
  },
  {
   "cell_type": "code",
   "execution_count": 21,
   "metadata": {},
   "outputs": [
    {
     "name": "stdout",
     "output_type": "stream",
     "text": [
      "[[1 7 2]\n",
      " [8 7 6]\n",
      " [8 9 9]]\n",
      "57 57\n",
      "[17 23 17] [17 23 17]\n",
      "[10 21 26] [10 21 26]\n"
     ]
    }
   ],
   "source": [
    "#sum()\n",
    "a2=np.random.randint(1,10,(3,3))\n",
    "print(a2)\n",
    "print(a2.sum(),np.sum(a2))\n",
    "print(a2.sum(axis=0),np.sum(a2,axis=0))\n",
    "print(a2.sum(axis=1),np.sum(a2,axis=1))"
   ]
  },
  {
   "cell_type": "code",
   "execution_count": 22,
   "metadata": {
    "scrolled": true
   },
   "outputs": [
    {
     "name": "stdout",
     "output_type": "stream",
     "text": [
      "[[1 7 2]\n",
      " [8 7 6]\n",
      " [8 9 9]]\n",
      "[ 1  8 10 18 25 31 39 48 57] [ 1  8 10 18 25 31 39 48 57]\n",
      "[[ 1  7  2]\n",
      " [ 9 14  8]\n",
      " [17 23 17]]\n",
      "[[ 1  8 10]\n",
      " [ 8 15 21]\n",
      " [ 8 17 26]]\n"
     ]
    }
   ],
   "source": [
    "#cumsum()\n",
    "print(a2)\n",
    "print(a2.cumsum(),np.cumsum(a2))\n",
    "print(np.cumsum(a2,axis=0))\n",
    "print(np.cumsum(a2,axis=1))"
   ]
  },
  {
   "cell_type": "code",
   "execution_count": 23,
   "metadata": {},
   "outputs": [
    {
     "name": "stdout",
     "output_type": "stream",
     "text": [
      "[[1 7 2]\n",
      " [8 7 6]\n",
      " [8 9 9]]\n",
      "[[ 6 -5]\n",
      " [-1 -1]\n",
      " [ 1  0]]\n",
      "[[7 0 4]\n",
      " [0 2 3]]\n",
      "[[ 6 -5]\n",
      " [-1 -1]\n",
      " [ 1  0]]\n"
     ]
    }
   ],
   "source": [
    "#diff():\n",
    "print(a2)\n",
    "print(np.diff(a2))\n",
    "print(np.diff(a2,axis=0))\n",
    "print(np.diff(a2,axis=1))"
   ]
  },
  {
   "cell_type": "code",
   "execution_count": 24,
   "metadata": {},
   "outputs": [
    {
     "name": "stdout",
     "output_type": "stream",
     "text": [
      "[[1 7 2]\n",
      " [8 7 6]\n",
      " [8 9 9]]\n",
      "3048192\n",
      "[ 64 441 108]\n",
      "[ 14 336 648]\n"
     ]
    }
   ],
   "source": [
    "#prod():\n",
    "print(a2)\n",
    "print(np.prod(a2))\n",
    "print(np.prod(a2,axis=0))\n",
    "print(np.prod(a2,axis=1))"
   ]
  },
  {
   "cell_type": "code",
   "execution_count": 25,
   "metadata": {},
   "outputs": [
    {
     "name": "stdout",
     "output_type": "stream",
     "text": [
      "[[1 7 2]\n",
      " [8 7 6]\n",
      " [8 9 9]]\n",
      "[      1       7      14     112     784    4704   37632  338688 3048192]\n",
      "[[  1   7   2]\n",
      " [  8  49  12]\n",
      " [ 64 441 108]]\n",
      "[[  1   7  14]\n",
      " [  8  56 336]\n",
      " [  8  72 648]]\n"
     ]
    }
   ],
   "source": [
    "#cumprod():\n",
    "print(a2)\n",
    "print(np.cumprod(a2))\n",
    "print(np.cumprod(a2,axis=0))\n",
    "print(np.cumprod(a2,axis=1))"
   ]
  },
  {
   "cell_type": "code",
   "execution_count": 30,
   "metadata": {},
   "outputs": [
    {
     "name": "stdout",
     "output_type": "stream",
     "text": [
      "[[1 7 2]\n",
      " [8 7 6]\n",
      " [8 9 9]]\n",
      "[[1 1 1]\n",
      " [1 1 1]\n",
      " [1 1 1]]\n",
      "[[10 10 10]\n",
      " [21 21 21]\n",
      " [26 26 26]]\n",
      "[[10 10 10]\n",
      " [21 21 21]\n",
      " [26 26 26]]\n"
     ]
    }
   ],
   "source": [
    "#cdot()/matmul():점곱/ 행렬곱 계산\n",
    "print(a2)\n",
    "b2=np.ones_like(a2)\n",
    "print(b2)\n",
    "print(np.dot(a2,b2))\n",
    "print(np.matmul(a2,b2))"
   ]
  },
  {
   "cell_type": "code",
   "execution_count": 33,
   "metadata": {},
   "outputs": [
    {
     "name": "stdout",
     "output_type": "stream",
     "text": [
      "[[1 7 2]\n",
      " [8 7 6]\n",
      " [8 9 9]]\n",
      "[[1 1 1]\n",
      " [1 1 1]\n",
      " [1 1 1]]\n",
      "57\n",
      "[[[[1 1 1]\n",
      "   [1 1 1]\n",
      "   [1 1 1]]\n",
      "\n",
      "  [[7 7 7]\n",
      "   [7 7 7]\n",
      "   [7 7 7]]\n",
      "\n",
      "  [[2 2 2]\n",
      "   [2 2 2]\n",
      "   [2 2 2]]]\n",
      "\n",
      "\n",
      " [[[8 8 8]\n",
      "   [8 8 8]\n",
      "   [8 8 8]]\n",
      "\n",
      "  [[7 7 7]\n",
      "   [7 7 7]\n",
      "   [7 7 7]]\n",
      "\n",
      "  [[6 6 6]\n",
      "   [6 6 6]\n",
      "   [6 6 6]]]\n",
      "\n",
      "\n",
      " [[[8 8 8]\n",
      "   [8 8 8]\n",
      "   [8 8 8]]\n",
      "\n",
      "  [[9 9 9]\n",
      "   [9 9 9]\n",
      "   [9 9 9]]\n",
      "\n",
      "  [[9 9 9]\n",
      "   [9 9 9]\n",
      "   [9 9 9]]]]\n",
      "[[10 10 10]\n",
      " [21 21 21]\n",
      " [26 26 26]]\n"
     ]
    }
   ],
   "source": [
    "#tensordot(): 텐서곱 계산\n",
    "print(a2)\n",
    "print(b2)\n",
    "print(np.tensordot(a2,b2))\n",
    "print(np.tensordot(a2,b2,axes=0))\n",
    "print(np.tensordot(a2,b2,axes=1))"
   ]
  },
  {
   "cell_type": "code",
   "execution_count": 36,
   "metadata": {},
   "outputs": [
    {
     "name": "stdout",
     "output_type": "stream",
     "text": [
      "[-3  6 -3]\n"
     ]
    }
   ],
   "source": [
    "#cross(): 벡터곱(신발끈 공식??) \n",
    "x=[1,2,3]\n",
    "y=[4,5,6]\n",
    "print(np.cross(x,y))"
   ]
  },
  {
   "cell_type": "code",
   "execution_count": 39,
   "metadata": {},
   "outputs": [
    {
     "name": "stdout",
     "output_type": "stream",
     "text": [
      "[[1 7 2]\n",
      " [8 7 6]\n",
      " [8 9 9]]\n",
      "[[1 1 1]\n",
      " [1 1 1]\n",
      " [1 1 1]]\n",
      "[[10 10 10]\n",
      " [21 21 21]\n",
      " [26 26 26]]\n",
      "[[1 1 1 1 1 1 1 1 1]\n",
      " [7 7 7 7 7 7 7 7 7]\n",
      " [2 2 2 2 2 2 2 2 2]\n",
      " [8 8 8 8 8 8 8 8 8]\n",
      " [7 7 7 7 7 7 7 7 7]\n",
      " [6 6 6 6 6 6 6 6 6]\n",
      " [8 8 8 8 8 8 8 8 8]\n",
      " [9 9 9 9 9 9 9 9 9]\n",
      " [9 9 9 9 9 9 9 9 9]]\n"
     ]
    }
   ],
   "source": [
    "#inner(),outer():\n",
    "print(a2)\n",
    "print(b2)\n",
    "print(np.inner(a2,b2))\n",
    "print(np.outer(a2,b2))"
   ]
  },
  {
   "cell_type": "code",
   "execution_count": 43,
   "metadata": {},
   "outputs": [
    {
     "name": "stdout",
     "output_type": "stream",
     "text": [
      "[[1 7 2]\n",
      " [8 7 6]\n",
      " [8 9 9]]\n",
      "6.333333333333333\n",
      "[5.66666667 7.66666667 5.66666667]\n",
      "[3.33333333 7.         8.66666667]\n"
     ]
    }
   ],
   "source": [
    "#mean(): 평균계산\n",
    "print(a2)\n",
    "print(np.mean(a2))\n",
    "print(np.mean(a2,axis=0))\n",
    "print(np.mean(a2,axis=1))"
   ]
  },
  {
   "cell_type": "code",
   "execution_count": 45,
   "metadata": {
    "scrolled": true
   },
   "outputs": [
    {
     "name": "stdout",
     "output_type": "stream",
     "text": [
      "[[1 7 2]\n",
      " [8 7 6]\n",
      " [8 9 9]]\n",
      "2.748737083745107\n",
      "[3.29983165 0.94280904 2.86744176]\n",
      "[2.62466929 0.81649658 0.47140452]\n"
     ]
    }
   ],
   "source": [
    "#std: 표준편차\n",
    "print(a2)\n",
    "print(np.std(a2))\n",
    "print(np.std(a2,axis=0))\n",
    "print(np.std(a2,axis=1))"
   ]
  },
  {
   "cell_type": "code",
   "execution_count": 48,
   "metadata": {},
   "outputs": [
    {
     "name": "stdout",
     "output_type": "stream",
     "text": [
      "[[1 7 2]\n",
      " [8 7 6]\n",
      " [8 9 9]]\n",
      "7.555555555555555\n",
      "[10.88888889  0.88888889  8.22222222]\n",
      "[6.88888889 0.66666667 0.22222222]\n"
     ]
    }
   ],
   "source": [
    "#var: 분산\n",
    "print(a2)\n",
    "print(np.var(a2))\n",
    "print(np.var(a2,axis=0))\n",
    "print(np.var(a2,axis=1))"
   ]
  },
  {
   "cell_type": "code",
   "execution_count": 49,
   "metadata": {
    "scrolled": true
   },
   "outputs": [
    {
     "name": "stdout",
     "output_type": "stream",
     "text": [
      "[[1 7 2]\n",
      " [8 7 6]\n",
      " [8 9 9]]\n",
      "7\n",
      "[1 2 2]\n",
      "[1 0 1]\n"
     ]
    }
   ],
   "source": [
    "#min() / max(): 최소 최대값\n",
    "#argmin() / argmax: 최소 최대 인덱스\n",
    "print(a2)\n",
    "print(np.argmax(a2))\n",
    "print(np.argmax(a2,axis=0))\n",
    "print(np.argmax(a2,axis=1))"
   ]
  },
  {
   "cell_type": "code",
   "execution_count": 50,
   "metadata": {
    "scrolled": true
   },
   "outputs": [
    {
     "name": "stdout",
     "output_type": "stream",
     "text": [
      "[[1 7 2]\n",
      " [8 7 6]\n",
      " [8 9 9]]\n",
      "7.0\n",
      "[8. 7. 6.]\n",
      "[2. 7. 9.]\n"
     ]
    }
   ],
   "source": [
    "#median: 중앙값\n",
    "print(a2)\n",
    "print(np.median(a2))\n",
    "print(np.median(a2,axis=0))\n",
    "print(np.median(a2,axis=1))"
   ]
  },
  {
   "cell_type": "code",
   "execution_count": 55,
   "metadata": {},
   "outputs": [
    {
     "name": "stdout",
     "output_type": "stream",
     "text": [
      "[0 1 2 3]\n",
      "[0.  0.6 1.2 1.8 2.4 3. ]\n",
      "[0 1 2 2 3 3]\n",
      "[0 0 1 1 2 3]\n",
      "[0 1 1 2 2 3]\n",
      "[0.  0.5 1.5 1.5 2.5 3. ]\n"
     ]
    }
   ],
   "source": [
    "#percentile: 백분위수 interpoation에 따라 달라짐\n",
    "a1=np.array([0,1,2,3])\n",
    "print(a1)\n",
    "print(np.percentile(a1,[0,20,40,60,80,100],interpolation='linear'))\n",
    "print(np.percentile(a1,[0,20,40,60,80,100],interpolation='higher'))\n",
    "print(np.percentile(a1,[0,20,40,60,80,100],interpolation='lower'))\n",
    "print(np.percentile(a1,[0,20,40,60,80,100],interpolation='nearest'))\n",
    "print(np.percentile(a1,[0,20,40,60,80,100],interpolati on='midpoint'))"
   ]
  },
  {
   "cell_type": "code",
   "execution_count": 59,
   "metadata": {},
   "outputs": [
    {
     "name": "stdout",
     "output_type": "stream",
     "text": [
      "[[False False False]\n",
      " [False  True  True]\n",
      " [False  True  True]]\n",
      "True\n",
      "[False  True  True]\n",
      "[False  True  True]\n"
     ]
    }
   ],
   "source": [
    "#any(): \n",
    "a2=np.array([[False,False,False],\n",
    "            [False,True,True],\n",
    "            [False,True,True]])\n",
    "print(a2)\n",
    "print(np.any(a2))\n",
    "print(np.any(a2,axis=0))\n",
    "print(np.any(a2,axis=1))"
   ]
  },
  {
   "cell_type": "code",
   "execution_count": 62,
   "metadata": {},
   "outputs": [
    {
     "name": "stdout",
     "output_type": "stream",
     "text": [
      "[[False False False]\n",
      " [False  True  True]\n",
      " [False  True  True]]\n",
      "False\n",
      "[False False False]\n",
      "[False False False]\n"
     ]
    }
   ],
   "source": [
    "#all():\n",
    "print(a2)\n",
    "print(np.all(a2))\n",
    "print(np.all(a2,axis=0))\n",
    "print(np.all(a2,axis=1))"
   ]
  },
  {
   "cell_type": "markdown",
   "metadata": {},
   "source": [
    "### 비교 연산(Comparison Operators)\n",
    "* ==, !=, >=, <=, >, < \n",
    "* 기존 연산자에서 조건으로 추가하여 사용할 수 있음"
   ]
  },
  {
   "cell_type": "code",
   "execution_count": 69,
   "metadata": {},
   "outputs": [
    {
     "name": "stdout",
     "output_type": "stream",
     "text": [
      "[[1 2 3]\n",
      " [4 5 6]\n",
      " [7 8 9]]\n",
      "45\n",
      "4\n",
      "4\n",
      "[1 1 2]\n",
      "[0 1 3]\n"
     ]
    }
   ],
   "source": [
    "a2=np.arange(1,10).reshape(3,3)\n",
    "print(a2)\n",
    "print(np.sum(a2))\n",
    "print(np.count_nonzero(a2>5))\n",
    "print(np.sum(a2>5))\n",
    "print(np.sum(a2>5,axis=0))\n",
    "print(np.sum(a2>5,axis=1))"
   ]
  },
  {
   "cell_type": "markdown",
   "metadata": {},
   "source": [
    "* 비교 범용함수\n",
    "    * np.isclose(): 배열 두개가 일정수준으로 가까우면 True\n",
    "    * np.isinf(): 배열이 inf이면 True\n",
    "    * np.infinite(): 배열이 inf,nan이면 False\n",
    "    * np.insnan(): 배열이 nan이면 True"
   ]
  },
  {
   "cell_type": "code",
   "execution_count": 71,
   "metadata": {},
   "outputs": [
    {
     "name": "stdout",
     "output_type": "stream",
     "text": [
      "[1 2 3 4 5]\n",
      "[1 2 3 3 4]\n",
      "[ True  True  True False False]\n"
     ]
    }
   ],
   "source": [
    "a1=np.array([1,2,3,4,5])\n",
    "print(a1)\n",
    "b1=np.array([1,2,3,3,4])\n",
    "print(b1)\n",
    "print(np.isclose(a1,b1))"
   ]
  },
  {
   "cell_type": "code",
   "execution_count": 76,
   "metadata": {},
   "outputs": [
    {
     "name": "stdout",
     "output_type": "stream",
     "text": [
      "[ nan   2.  inf   4. -inf]\n",
      "[ True False False False False]\n",
      "[False False  True False  True]\n",
      "[False  True False  True False]\n"
     ]
    }
   ],
   "source": [
    "a1= np.array([np.nan,2,np.inf,4,np.NINF])\n",
    "print(a1)\n",
    "print(np.isnan(a1))\n",
    "print(np.isinf(a1))\n",
    "print(np.isfinite(a1))"
   ]
  },
  {
   "cell_type": "markdown",
   "metadata": {},
   "source": [
    "#### 불리언 연산자\n",
    "* &, |, ^(xor: 배타적 논리합= 교집합의 여집합), ~(not) "
   ]
  },
  {
   "cell_type": "raw",
   "metadata": {},
   "source": [
    "a2= np.arange(1,10).reshape(3,3)\n",
    "print(a2)\n",
    "\n",
    "print((a2>5)^(a2<8))\n",
    "print(a2[(a2>5)^(a2<8)])\n",
    "\n",
    "print(~(a2>5))\n",
    "print(a2[~(a2>5)])"
   ]
  },
  {
   "cell_type": "markdown",
   "metadata": {},
   "source": [
    "### 배열 정렬\n",
    "* np.sort(): 원본은 유지됨\n",
    "* a1.sort(): 원본이 바뀜(a1은 해당 array)\n",
    "* np.argsort(): 정렬한 것의 index"
   ]
  },
  {
   "cell_type": "code",
   "execution_count": 87,
   "metadata": {},
   "outputs": [
    {
     "name": "stdout",
     "output_type": "stream",
     "text": [
      "[5 7 6 2 7 6 2 3 6 5]\n",
      "[2 2 3 5 5 6 6 6 7 7]\n",
      "[3 6 7 0 9 2 5 8 1 4]\n"
     ]
    }
   ],
   "source": [
    "a1=np.random.randint(1,10,size=10)\n",
    "print(a1)\n",
    "print(np.sort(a1)) #원본은 유지됨\n",
    "print(np.argsort(a1))"
   ]
  },
  {
   "cell_type": "code",
   "execution_count": 90,
   "metadata": {},
   "outputs": [
    {
     "name": "stdout",
     "output_type": "stream",
     "text": [
      "[[5 2 8]\n",
      " [8 3 7]\n",
      " [3 5 4]]\n",
      "[[3 2 4]\n",
      " [5 3 7]\n",
      " [8 5 8]]\n",
      "[[2 5 8]\n",
      " [3 7 8]\n",
      " [3 4 5]]\n"
     ]
    }
   ],
   "source": [
    "a2=np.random.randint(1,10,size=(3,3))\n",
    "print(a2)\n",
    "print(np.sort(a2,axis=0))\n",
    "print(np.sort(a2,axis=1))"
   ]
  },
  {
   "cell_type": "markdown",
   "metadata": {},
   "source": [
    "#### 부분 정렬\n",
    "* partition(): 배열에서 k개의 작은 값을 정렬"
   ]
  },
  {
   "cell_type": "code",
   "execution_count": 92,
   "metadata": {},
   "outputs": [
    {
     "name": "stdout",
     "output_type": "stream",
     "text": [
      "[4 3 8 2 2 3 6 5 5 8]\n",
      "[2 2 3 3 4 8 6 5 5 8]\n"
     ]
    }
   ],
   "source": [
    "a1=np.random.randint(1,10,size=10)\n",
    "print(a1)\n",
    "print(np.partition(a1,3)) "
   ]
  },
  {
   "cell_type": "code",
   "execution_count": 94,
   "metadata": {},
   "outputs": [
    {
     "name": "stdout",
     "output_type": "stream",
     "text": [
      "[[9 4 8 5 6]\n",
      " [5 7 2 3 4]\n",
      " [9 1 4 6 3]\n",
      " [8 8 6 7 3]\n",
      " [8 8 2 8 2]]\n",
      "[[8 1 2 3 3]\n",
      " [8 4 2 5 2]\n",
      " [5 7 4 6 3]\n",
      " [9 8 6 7 4]\n",
      " [9 8 8 8 6]]\n",
      "[[5 6 4 8 9]\n",
      " [3 2 4 5 7]\n",
      " [1 3 4 6 9]\n",
      " [3 6 7 8 8]\n",
      " [2 2 8 8 8]]\n"
     ]
    }
   ],
   "source": [
    "a2= np.random.randint(1,10,size=(5,5))\n",
    "print(a2)\n",
    "print(np.partition(a2,3,axis=0))\n",
    "print(np.partition(a2,3,axis=1))"
   ]
  },
  {
   "cell_type": "markdown",
   "metadata": {},
   "source": [
    "## 배열 입출력\n",
    "* np.save(\"파일이름\",저장할객체): 객체 한개를 파일에 저장\n",
    "* np.savez(\"파일이름\",저장할객체, 저장할객체 ...): 객체 여려개를 한 파일에 저장\n",
    "* np.load(\"파일이름.확장자\"): 객체 로딩\n",
    "* np.savetxt(\"파일이름.확장자\",저장할객체, delimiter=\"구분자\"):바이너리 타입이 아닌 텍스트 타입으로 저장, 대표적으로 csv(\",\")\n",
    "* np.loadtxt((\"파일이름.확장자\",delimiter=\"구분자\"): 텍스트 형태 로딩"
   ]
  },
  {
   "cell_type": "code",
   "execution_count": 95,
   "metadata": {},
   "outputs": [
    {
     "name": "stdout",
     "output_type": "stream",
     "text": [
      "[[4 9 6 3 2]\n",
      " [4 4 2 8 5]\n",
      " [4 7 6 3 9]\n",
      " [2 3 3 3 1]\n",
      " [9 3 5 1 6]]\n"
     ]
    }
   ],
   "source": [
    "a2=np.random.randint(1,10,size=(5,5))\n",
    "print(a2)\n",
    "np.save(\"a\",a2)"
   ]
  },
  {
   "cell_type": "code",
   "execution_count": 97,
   "metadata": {},
   "outputs": [
    {
     "name": "stdout",
     "output_type": "stream",
     "text": [
      "[[3 9 9 6 2]\n",
      " [6 8 9 9 3]\n",
      " [9 6 4 7 8]\n",
      " [1 4 1 4 6]\n",
      " [9 3 1 9 9]]\n"
     ]
    }
   ],
   "source": [
    "b2=np.random.randint(1,10,size=(5,5))\n",
    "print(b2)\n",
    "np.savez(\"ab\",a2,b2)"
   ]
  },
  {
   "cell_type": "code",
   "execution_count": 99,
   "metadata": {},
   "outputs": [
    {
     "name": "stdout",
     "output_type": "stream",
     "text": [
      "[[4 9 6 3 2]\n",
      " [4 4 2 8 5]\n",
      " [4 7 6 3 9]\n",
      " [2 3 3 3 1]\n",
      " [9 3 5 1 6]]\n"
     ]
    }
   ],
   "source": [
    "npy=np.load(\"a.npy\")\n",
    "print(npy)"
   ]
  },
  {
   "cell_type": "code",
   "execution_count": 101,
   "metadata": {},
   "outputs": [
    {
     "name": "stdout",
     "output_type": "stream",
     "text": [
      "['arr_0', 'arr_1']\n",
      "[[4 9 6 3 2]\n",
      " [4 4 2 8 5]\n",
      " [4 7 6 3 9]\n",
      " [2 3 3 3 1]\n",
      " [9 3 5 1 6]]\n",
      "[[3 9 9 6 2]\n",
      " [6 8 9 9 3]\n",
      " [9 6 4 7 8]\n",
      " [1 4 1 4 6]\n",
      " [9 3 1 9 9]]\n"
     ]
    }
   ],
   "source": [
    "npz=np.load(\"ab.npz\")\n",
    "print(npz.files)\n",
    "print(npz['arr_0'])\n",
    "print(npz['arr_1'])"
   ]
  },
  {
   "cell_type": "code",
   "execution_count": 102,
   "metadata": {},
   "outputs": [
    {
     "name": "stdout",
     "output_type": "stream",
     "text": [
      "[[4 9 6 3 2]\n",
      " [4 4 2 8 5]\n",
      " [4 7 6 3 9]\n",
      " [2 3 3 3 1]\n",
      " [9 3 5 1 6]]\n"
     ]
    }
   ],
   "source": [
    "print(a2)\n",
    "np.savetxt(\"a.csv\",a2,delimiter=\",\")"
   ]
  },
  {
   "cell_type": "code",
   "execution_count": 108,
   "metadata": {},
   "outputs": [
    {
     "name": "stdout",
     "output_type": "stream",
     "text": [
      "[[4. 9. 6. 3. 2.]\n",
      " [4. 4. 2. 8. 5.]\n",
      " [4. 7. 6. 3. 9.]\n",
      " [2. 3. 3. 3. 1.]\n",
      " [9. 3. 5. 1. 6.]]\n"
     ]
    }
   ],
   "source": [
    "csv=np.loadtxt(\"a.csv\",delimiter=\",\")\n",
    "print(csv)"
   ]
  },
  {
   "cell_type": "code",
   "execution_count": 109,
   "metadata": {},
   "outputs": [
    {
     "name": "stdout",
     "output_type": "stream",
     "text": [
      "[[3 9 9 6 2]\n",
      " [6 8 9 9 3]\n",
      " [9 6 4 7 8]\n",
      " [1 4 1 4 6]\n",
      " [9 3 1 9 9]]\n"
     ]
    }
   ],
   "source": [
    "print(b2)\n",
    "np.savetxt(\"b.csv\",b2,delimiter=\",\",fmt='%.2e',header=\"c1,c2,c3,c4,c5\")"
   ]
  },
  {
   "cell_type": "code",
   "execution_count": 111,
   "metadata": {},
   "outputs": [
    {
     "name": "stdout",
     "output_type": "stream",
     "text": [
      "[[3. 9. 9. 6. 2.]\n",
      " [6. 8. 9. 9. 3.]\n",
      " [9. 6. 4. 7. 8.]\n",
      " [1. 4. 1. 4. 6.]\n",
      " [9. 3. 1. 9. 9.]]\n"
     ]
    }
   ],
   "source": [
    "csv=np.loadtxt(\"b.csv\",delimiter=\",\")\n",
    "print(csv)"
   ]
  },
  {
   "cell_type": "markdown",
   "metadata": {},
   "source": [
    " # 참고문헌\n",
    " * Numpy, https://numpy.org/\n",
    " * Jake Vanderplas, \"Python Data Science Handbook\",O'Reilly\n",
    " * Wes Mckinney,\"Python for Data Analysis\",O'Reilly\n",
    " * 이수안컴퓨터연구소(유튜버),https://www.youtube.com/watch?v=mirZPrWwvao&ab_channel=%EC%9D%B4%EC%88%98%EC%95%88%EC%BB%B4%ED%93%A8%ED%84%B0%EC%97%B0%EA%B5%AC%EC%86%8C\n",
    " * 깃허브 기록 누락 살리기"
   ]
  }
 ],
 "metadata": {
  "kernelspec": {
   "display_name": "Python 3",
   "language": "python",
   "name": "python3"
  },
  "language_info": {
   "codemirror_mode": {
    "name": "ipython",
    "version": 3
   },
   "file_extension": ".py",
   "mimetype": "text/x-python",
   "name": "python",
   "nbconvert_exporter": "python",
   "pygments_lexer": "ipython3",
   "version": "3.8.5"
  }
 },
 "nbformat": 4,
 "nbformat_minor": 4
}
